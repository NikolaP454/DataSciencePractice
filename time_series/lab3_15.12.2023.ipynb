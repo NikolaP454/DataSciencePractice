{
  "cells": [
    {
      "cell_type": "markdown",
      "metadata": {
        "id": "rODb9vHvIEbp"
      },
      "source": [
        "# Requirements"
      ]
    },
    {
      "cell_type": "code",
      "execution_count": 43,
      "metadata": {
        "id": "-rgNa1IOH9KV"
      },
      "outputs": [],
      "source": [
        "import pandas as pd\n",
        "import numpy as np\n",
        "\n",
        "from sklearn.preprocessing import LabelEncoder\n",
        "from sklearn.model_selection import train_test_split, GridSearchCV, TimeSeriesSplit\n",
        "from sklearn.ensemble import RandomForestRegressor\n",
        "from sklearn.metrics import mean_absolute_error, mean_squared_error, r2_score\n",
        "\n",
        "from xgboost import XGBRegressor\n",
        "\n",
        "import seaborn as sns\n",
        "import matplotlib.pyplot as plt"
      ]
    },
    {
      "cell_type": "markdown",
      "metadata": {
        "id": "KNMMoUiUIW3L"
      },
      "source": [
        "# Laboratory Exercise - Run Mode (8 points)"
      ]
    },
    {
      "cell_type": "markdown",
      "metadata": {
        "id": "_rAh_91OIjeS"
      },
      "source": [
        "## Introduction\n",
        "In this laboratory assignment, the focus is on time series forecasting, specifically targeting the prediction of the current **count of page loads**. Your task involves employing bagging and boosting methods to forecast the **count of page loads**. To accomplish this, you will use data from the preceding three days, consisting of **count of page loads**, **count of unique visits**, **count of first time-visits**, **count of returning visits**, and the current **day**.\n",
        "\n",
        "**Note: You are required to perform this laboratory assignment on your local machine.**"
      ]
    },
    {
      "cell_type": "markdown",
      "metadata": {
        "id": "zBYI-EypaWom"
      },
      "source": [
        "## The Website Visitors Dataset"
      ]
    },
    {
      "cell_type": "markdown",
      "metadata": {
        "id": "iAtPoYzAZo1v"
      },
      "source": [
        "## Exploring the Website Visitors Dataset\n",
        "This datatset consists of daily counts of page loads, unique visitors, first-time visitors, and returning visitors for an academic teaching notes website. The dataset contains 2167 rows spanning from September 14, 2014, to August 19, 2020. A visit is defined as a series of hits on one or more pages by the same user on a given day, identified by IP address. Shared IP addresses are considered a single user. A visit is \"unique\" if a hit from the same IP address hasn't occurred within the last 6 hours. Returning visitors are identified by cookies, and the rest are classified as first-time visitors. The unique visitor count is the sum of returning and first-time visitors.\n",
        "\n",
        "The dataset consists of the following columns:\n",
        "- date - date in mm/dd/yyyy format,\n",
        "- day_of_week - day of the week in text form (Monday, Tuesday, etc.),\n",
        "- page_loads - daily number of pages loaded,\n",
        "- unique_visits - daily number of visitors from IP addresses with no hits in over 6 hours,\n",
        "- first_time_visits - number of unique visitors without a identifying cookie, and\n",
        "- returning_visits - number of unique visitors minus first-time visitors.\n",
        "\n",
        "*Note: The dataset is complete, with no missing values in any of its entries.*"
      ]
    },
    {
      "cell_type": "markdown",
      "metadata": {
        "id": "DCm1qm1mZwMr"
      },
      "source": [
        "Load the dataset into a `pandas` data frame."
      ]
    },
    {
      "cell_type": "code",
      "execution_count": 27,
      "metadata": {},
      "outputs": [],
      "source": [
        "df = pd.read_csv('../data/website-visitors.csv', index_col='date')"
      ]
    },
    {
      "cell_type": "code",
      "execution_count": 28,
      "metadata": {},
      "outputs": [
        {
          "data": {
            "text/html": [
              "<div>\n",
              "<style scoped>\n",
              "    .dataframe tbody tr th:only-of-type {\n",
              "        vertical-align: middle;\n",
              "    }\n",
              "\n",
              "    .dataframe tbody tr th {\n",
              "        vertical-align: top;\n",
              "    }\n",
              "\n",
              "    .dataframe thead th {\n",
              "        text-align: right;\n",
              "    }\n",
              "</style>\n",
              "<table border=\"1\" class=\"dataframe\">\n",
              "  <thead>\n",
              "    <tr style=\"text-align: right;\">\n",
              "      <th></th>\n",
              "      <th>day_of_week</th>\n",
              "      <th>page_loads</th>\n",
              "      <th>unique_visits</th>\n",
              "      <th>first_time_visits</th>\n",
              "      <th>returning_visits</th>\n",
              "    </tr>\n",
              "    <tr>\n",
              "      <th>date</th>\n",
              "      <th></th>\n",
              "      <th></th>\n",
              "      <th></th>\n",
              "      <th></th>\n",
              "      <th></th>\n",
              "    </tr>\n",
              "  </thead>\n",
              "  <tbody>\n",
              "    <tr>\n",
              "      <th>9/14/2014</th>\n",
              "      <td>Sunday</td>\n",
              "      <td>2.146</td>\n",
              "      <td>1.582</td>\n",
              "      <td>1.430</td>\n",
              "      <td>152.0</td>\n",
              "    </tr>\n",
              "    <tr>\n",
              "      <th>9/15/2014</th>\n",
              "      <td>Monday</td>\n",
              "      <td>3.621</td>\n",
              "      <td>2.528</td>\n",
              "      <td>2.297</td>\n",
              "      <td>231.0</td>\n",
              "    </tr>\n",
              "    <tr>\n",
              "      <th>9/16/2014</th>\n",
              "      <td>Tuesday</td>\n",
              "      <td>3.698</td>\n",
              "      <td>2.630</td>\n",
              "      <td>2.352</td>\n",
              "      <td>278.0</td>\n",
              "    </tr>\n",
              "    <tr>\n",
              "      <th>9/17/2014</th>\n",
              "      <td>Wednesday</td>\n",
              "      <td>3.667</td>\n",
              "      <td>2.614</td>\n",
              "      <td>2.327</td>\n",
              "      <td>287.0</td>\n",
              "    </tr>\n",
              "    <tr>\n",
              "      <th>9/18/2014</th>\n",
              "      <td>Thursday</td>\n",
              "      <td>3.316</td>\n",
              "      <td>2.366</td>\n",
              "      <td>2.130</td>\n",
              "      <td>236.0</td>\n",
              "    </tr>\n",
              "    <tr>\n",
              "      <th>9/19/2014</th>\n",
              "      <td>Friday</td>\n",
              "      <td>2.815</td>\n",
              "      <td>1.863</td>\n",
              "      <td>1.622</td>\n",
              "      <td>241.0</td>\n",
              "    </tr>\n",
              "    <tr>\n",
              "      <th>9/20/2014</th>\n",
              "      <td>Saturday</td>\n",
              "      <td>1.658</td>\n",
              "      <td>1.118</td>\n",
              "      <td>985.000</td>\n",
              "      <td>133.0</td>\n",
              "    </tr>\n",
              "  </tbody>\n",
              "</table>\n",
              "</div>"
            ],
            "text/plain": [
              "          day_of_week  page_loads  unique_visits  first_time_visits  \\\n",
              "date                                                                  \n",
              "9/14/2014      Sunday       2.146          1.582              1.430   \n",
              "9/15/2014      Monday       3.621          2.528              2.297   \n",
              "9/16/2014     Tuesday       3.698          2.630              2.352   \n",
              "9/17/2014   Wednesday       3.667          2.614              2.327   \n",
              "9/18/2014    Thursday       3.316          2.366              2.130   \n",
              "9/19/2014      Friday       2.815          1.863              1.622   \n",
              "9/20/2014    Saturday       1.658          1.118            985.000   \n",
              "\n",
              "           returning_visits  \n",
              "date                         \n",
              "9/14/2014             152.0  \n",
              "9/15/2014             231.0  \n",
              "9/16/2014             278.0  \n",
              "9/17/2014             287.0  \n",
              "9/18/2014             236.0  \n",
              "9/19/2014             241.0  \n",
              "9/20/2014             133.0  "
            ]
          },
          "execution_count": 28,
          "metadata": {},
          "output_type": "execute_result"
        }
      ],
      "source": [
        "df.head(7)"
      ]
    },
    {
      "cell_type": "markdown",
      "metadata": {
        "id": "5slwyyhCKRo9"
      },
      "source": [
        "Explore the dataset using visualizations of your choice."
      ]
    },
    {
      "cell_type": "code",
      "execution_count": 29,
      "metadata": {},
      "outputs": [],
      "source": [
        "# sns.pairplot(df)\n",
        "# plt.show()"
      ]
    },
    {
      "cell_type": "markdown",
      "metadata": {
        "id": "38bzs4x4lH9O"
      },
      "source": [
        "Encode the categorical features."
      ]
    },
    {
      "cell_type": "code",
      "execution_count": 30,
      "metadata": {},
      "outputs": [],
      "source": [
        "encoder = {\n",
        "    'Monday': 0,\n",
        "    'Tuesday': 1,\n",
        "    'Wednesday': 2,\n",
        "    'Thursday': 3,\n",
        "    'Friday': 4,\n",
        "    'Saturday': 5,\n",
        "    'Sunday': 6\n",
        "}\n",
        "df['day_of_week'] = df['day_of_week'].map(encoder)"
      ]
    },
    {
      "cell_type": "markdown",
      "metadata": {
        "id": "hZceBEFuiGpI"
      },
      "source": [
        "# Feauture Extraction\n",
        "Apply a lag of one, two, and three days to each chosen feature (except `day_of_week`), creating a set of features representing the statistics from the previous three days. To maintain dataset integrity, eliminate any resulting missing values at the beginning of the dataset.\n",
        "\n",
        "Hint: Use `df['column_name'].shift(period)`. Check the documentation at https://pandas.pydata.org/docs/reference/api/pandas.DataFrame.shift.html."
      ]
    },
    {
      "cell_type": "code",
      "execution_count": 31,
      "metadata": {
        "id": "qHwGg9ieiFL1"
      },
      "outputs": [],
      "source": [
        "for col in ['page_loads', 'unique_visits', 'first_time_visits', 'returning_visits']:\n",
        "    for i in range(1, 3 + 1):\n",
        "        df[f'{col}_lag_{i}'] = df[col].shift(i)"
      ]
    },
    {
      "cell_type": "code",
      "execution_count": 32,
      "metadata": {},
      "outputs": [],
      "source": [
        "df.dropna(inplace=True)"
      ]
    },
    {
      "cell_type": "code",
      "execution_count": 33,
      "metadata": {},
      "outputs": [
        {
          "data": {
            "text/html": [
              "<div>\n",
              "<style scoped>\n",
              "    .dataframe tbody tr th:only-of-type {\n",
              "        vertical-align: middle;\n",
              "    }\n",
              "\n",
              "    .dataframe tbody tr th {\n",
              "        vertical-align: top;\n",
              "    }\n",
              "\n",
              "    .dataframe thead th {\n",
              "        text-align: right;\n",
              "    }\n",
              "</style>\n",
              "<table border=\"1\" class=\"dataframe\">\n",
              "  <thead>\n",
              "    <tr style=\"text-align: right;\">\n",
              "      <th></th>\n",
              "      <th>day_of_week</th>\n",
              "      <th>page_loads</th>\n",
              "      <th>unique_visits</th>\n",
              "      <th>first_time_visits</th>\n",
              "      <th>returning_visits</th>\n",
              "      <th>page_loads_lag_1</th>\n",
              "      <th>page_loads_lag_2</th>\n",
              "      <th>page_loads_lag_3</th>\n",
              "      <th>unique_visits_lag_1</th>\n",
              "      <th>unique_visits_lag_2</th>\n",
              "      <th>unique_visits_lag_3</th>\n",
              "      <th>first_time_visits_lag_1</th>\n",
              "      <th>first_time_visits_lag_2</th>\n",
              "      <th>first_time_visits_lag_3</th>\n",
              "      <th>returning_visits_lag_1</th>\n",
              "      <th>returning_visits_lag_2</th>\n",
              "      <th>returning_visits_lag_3</th>\n",
              "    </tr>\n",
              "    <tr>\n",
              "      <th>date</th>\n",
              "      <th></th>\n",
              "      <th></th>\n",
              "      <th></th>\n",
              "      <th></th>\n",
              "      <th></th>\n",
              "      <th></th>\n",
              "      <th></th>\n",
              "      <th></th>\n",
              "      <th></th>\n",
              "      <th></th>\n",
              "      <th></th>\n",
              "      <th></th>\n",
              "      <th></th>\n",
              "      <th></th>\n",
              "      <th></th>\n",
              "      <th></th>\n",
              "      <th></th>\n",
              "    </tr>\n",
              "  </thead>\n",
              "  <tbody>\n",
              "    <tr>\n",
              "      <th>9/17/2014</th>\n",
              "      <td>2</td>\n",
              "      <td>3.667</td>\n",
              "      <td>2.614</td>\n",
              "      <td>2.327</td>\n",
              "      <td>287.0</td>\n",
              "      <td>3.698</td>\n",
              "      <td>3.621</td>\n",
              "      <td>2.146</td>\n",
              "      <td>2.630</td>\n",
              "      <td>2.528</td>\n",
              "      <td>1.582</td>\n",
              "      <td>2.352</td>\n",
              "      <td>2.297</td>\n",
              "      <td>1.430</td>\n",
              "      <td>278.0</td>\n",
              "      <td>231.0</td>\n",
              "      <td>152.0</td>\n",
              "    </tr>\n",
              "    <tr>\n",
              "      <th>9/18/2014</th>\n",
              "      <td>3</td>\n",
              "      <td>3.316</td>\n",
              "      <td>2.366</td>\n",
              "      <td>2.130</td>\n",
              "      <td>236.0</td>\n",
              "      <td>3.667</td>\n",
              "      <td>3.698</td>\n",
              "      <td>3.621</td>\n",
              "      <td>2.614</td>\n",
              "      <td>2.630</td>\n",
              "      <td>2.528</td>\n",
              "      <td>2.327</td>\n",
              "      <td>2.352</td>\n",
              "      <td>2.297</td>\n",
              "      <td>287.0</td>\n",
              "      <td>278.0</td>\n",
              "      <td>231.0</td>\n",
              "    </tr>\n",
              "    <tr>\n",
              "      <th>9/19/2014</th>\n",
              "      <td>4</td>\n",
              "      <td>2.815</td>\n",
              "      <td>1.863</td>\n",
              "      <td>1.622</td>\n",
              "      <td>241.0</td>\n",
              "      <td>3.316</td>\n",
              "      <td>3.667</td>\n",
              "      <td>3.698</td>\n",
              "      <td>2.366</td>\n",
              "      <td>2.614</td>\n",
              "      <td>2.630</td>\n",
              "      <td>2.130</td>\n",
              "      <td>2.327</td>\n",
              "      <td>2.352</td>\n",
              "      <td>236.0</td>\n",
              "      <td>287.0</td>\n",
              "      <td>278.0</td>\n",
              "    </tr>\n",
              "  </tbody>\n",
              "</table>\n",
              "</div>"
            ],
            "text/plain": [
              "           day_of_week  page_loads  unique_visits  first_time_visits  \\\n",
              "date                                                                   \n",
              "9/17/2014            2       3.667          2.614              2.327   \n",
              "9/18/2014            3       3.316          2.366              2.130   \n",
              "9/19/2014            4       2.815          1.863              1.622   \n",
              "\n",
              "           returning_visits  page_loads_lag_1  page_loads_lag_2  \\\n",
              "date                                                              \n",
              "9/17/2014             287.0             3.698             3.621   \n",
              "9/18/2014             236.0             3.667             3.698   \n",
              "9/19/2014             241.0             3.316             3.667   \n",
              "\n",
              "           page_loads_lag_3  unique_visits_lag_1  unique_visits_lag_2  \\\n",
              "date                                                                    \n",
              "9/17/2014             2.146                2.630                2.528   \n",
              "9/18/2014             3.621                2.614                2.630   \n",
              "9/19/2014             3.698                2.366                2.614   \n",
              "\n",
              "           unique_visits_lag_3  first_time_visits_lag_1  \\\n",
              "date                                                      \n",
              "9/17/2014                1.582                    2.352   \n",
              "9/18/2014                2.528                    2.327   \n",
              "9/19/2014                2.630                    2.130   \n",
              "\n",
              "           first_time_visits_lag_2  first_time_visits_lag_3  \\\n",
              "date                                                          \n",
              "9/17/2014                    2.297                    1.430   \n",
              "9/18/2014                    2.352                    2.297   \n",
              "9/19/2014                    2.327                    2.352   \n",
              "\n",
              "           returning_visits_lag_1  returning_visits_lag_2  \\\n",
              "date                                                        \n",
              "9/17/2014                   278.0                   231.0   \n",
              "9/18/2014                   287.0                   278.0   \n",
              "9/19/2014                   236.0                   287.0   \n",
              "\n",
              "           returning_visits_lag_3  \n",
              "date                               \n",
              "9/17/2014                   152.0  \n",
              "9/18/2014                   231.0  \n",
              "9/19/2014                   278.0  "
            ]
          },
          "execution_count": 33,
          "metadata": {},
          "output_type": "execute_result"
        }
      ],
      "source": [
        "df.head(3)"
      ]
    },
    {
      "cell_type": "markdown",
      "metadata": {
        "id": "tls69_PrbJKW"
      },
      "source": [
        "## Dataset Splitting\n",
        "Partition the dataset into training and testing sets with an 80:20 ratio.\n",
        "\n",
        "**WARNING: DO NOT SHUFFLE THE DATASET.**\n",
        "\n"
      ]
    },
    {
      "cell_type": "code",
      "execution_count": 34,
      "metadata": {},
      "outputs": [],
      "source": [
        "X, y = df.drop('page_loads', axis=1), df['page_loads']"
      ]
    },
    {
      "cell_type": "code",
      "execution_count": 36,
      "metadata": {},
      "outputs": [],
      "source": [
        "X_train, X_test, y_train, y_test = train_test_split(X, y, test_size=0.2, shuffle=False)"
      ]
    },
    {
      "cell_type": "markdown",
      "metadata": {
        "id": "VIkAR1Hibiwr"
      },
      "source": [
        "## Ensemble Learning Methods"
      ]
    },
    {
      "cell_type": "markdown",
      "metadata": {
        "id": "-XPgBlD7jgI5"
      },
      "source": [
        "### Bagging"
      ]
    },
    {
      "cell_type": "markdown",
      "metadata": {
        "id": "qWn1pafKbnxH"
      },
      "source": [
        "Create an instance of a Random Forest model and train it using the `fit` function."
      ]
    },
    {
      "cell_type": "code",
      "execution_count": 40,
      "metadata": {},
      "outputs": [],
      "source": [
        "model = RandomForestRegressor(n_estimators=100, random_state=42).fit(X_train, y_train)"
      ]
    },
    {
      "cell_type": "markdown",
      "metadata": {
        "id": "gyXZwAVab8Cp"
      },
      "source": [
        "Use the trained model to make predictions for the test set."
      ]
    },
    {
      "cell_type": "code",
      "execution_count": 41,
      "metadata": {},
      "outputs": [],
      "source": [
        "y_pred = model.predict(X_test)"
      ]
    },
    {
      "cell_type": "markdown",
      "metadata": {
        "id": "3VxAvDPtcNCh"
      },
      "source": [
        "Assess the performance of the model by using different metrics provided by the `scikit-learn` library."
      ]
    },
    {
      "cell_type": "code",
      "execution_count": 42,
      "metadata": {},
      "outputs": [
        {
          "name": "stdout",
          "output_type": "stream",
          "text": [
            "MAE: 0.225319468822171\n",
            "MSE: 0.07915274379792155\n",
            "R2: 0.9436446114848653\n"
          ]
        }
      ],
      "source": [
        "print(f'MAE: {mean_absolute_error(y_test, y_pred)}')\n",
        "print(f'MSE: {mean_squared_error(y_test, y_pred)}')\n",
        "print(f'R2: {r2_score(y_test, y_pred)}')"
      ]
    },
    {
      "cell_type": "markdown",
      "metadata": {
        "id": "4LF1v6lbjcGL"
      },
      "source": [
        "### Boosting"
      ]
    },
    {
      "cell_type": "markdown",
      "metadata": {
        "id": "VpuBInwyjkRr"
      },
      "source": [
        "Create an instance of an XGBoost model and train it using the `fit` function."
      ]
    },
    {
      "cell_type": "code",
      "execution_count": 44,
      "metadata": {},
      "outputs": [],
      "source": [
        "xgmodel = XGBRegressor(n_estimators=100, random_state=42).fit(X_train, y_train)"
      ]
    },
    {
      "cell_type": "markdown",
      "metadata": {
        "id": "30u245l0jnhE"
      },
      "source": [
        "Use the trained model to make predictions for the test set."
      ]
    },
    {
      "cell_type": "code",
      "execution_count": 45,
      "metadata": {
        "id": "ykXWljGFjnDr"
      },
      "outputs": [],
      "source": [
        "y_pred_xg = xgmodel.predict(X_test)"
      ]
    },
    {
      "cell_type": "markdown",
      "metadata": {
        "id": "UWnX_tVNjqGl"
      },
      "source": [
        "Assess the performance of the model by using different metrics provided by the `scikit-learn` library."
      ]
    },
    {
      "cell_type": "code",
      "execution_count": 46,
      "metadata": {},
      "outputs": [
        {
          "name": "stdout",
          "output_type": "stream",
          "text": [
            "MAE: 0.18877169994063517\n",
            "MSE: 0.05830774976554548\n",
            "R2: 0.9584858877429483\n"
          ]
        }
      ],
      "source": [
        "print(f'MAE: {mean_absolute_error(y_test, y_pred_xg)}')\n",
        "print(f'MSE: {mean_squared_error(y_test, y_pred_xg)}')\n",
        "print(f'R2: {r2_score(y_test, y_pred_xg)}')"
      ]
    },
    {
      "cell_type": "markdown",
      "metadata": {
        "id": "RwnD_qSpIeXG"
      },
      "source": [
        "# Laboratory Exercise - Bonus Task (+ 2 points)"
      ]
    },
    {
      "cell_type": "markdown",
      "metadata": {
        "id": "lSTuVpyYd2is"
      },
      "source": [
        "As part of the bonus task in this laboratory assignment, your objective is to fine-tune the number of estimators (`n_estimators`) for the XGBoost model using a cross-validation with grid search and time series split. This involves systematically experimenting with various values for `n_estimators` and evaluating the model's performance using cross-validation. Upon determining the most suitable `n_estimators` value, evaluate the model's performance on a test set for final assessment.\n",
        "\n",
        "Hints:\n",
        "- For grid search use the `GridCVSearch` from the `scikit-learn` library. Check the documentation at https://scikit-learn.org/stable/modules/generated/sklearn.model_selection.GridSearchCV.html.\n",
        "- For cross-validation use the `TimeSeriesSplit` from the `scikit-learn` library. Check the documentation at https://scikit-learn.org/stable/modules/generated/sklearn.model_selection.TimeSeriesSplit.html."
      ]
    },
    {
      "cell_type": "markdown",
      "metadata": {
        "id": "yZriA4d4eWLJ"
      },
      "source": [
        "## Dataset Splitting\n",
        "Partition the dataset into training and testing sets with an 90:10 ratio.\n",
        "\n",
        "**WARNING: DO NOT SHUFFLE THE DATASET.**"
      ]
    },
    {
      "cell_type": "code",
      "execution_count": null,
      "metadata": {},
      "outputs": [],
      "source": [
        "X_train, X_test, y_train, y_test = train_test_split(X, y, test_size=0.1, shuffle=False)"
      ]
    },
    {
      "cell_type": "markdown",
      "metadata": {
        "id": "E9myidoNgjmy"
      },
      "source": [
        "## Fine-tuning the XGBoost Hyperparameter\n",
        "Experiment with various values for `n_estimators` and evaluate the model's performance using cross-validation."
      ]
    },
    {
      "cell_type": "code",
      "execution_count": 50,
      "metadata": {},
      "outputs": [],
      "source": [
        "params = {\n",
        "    'n_estimators': [100, 200, 300, 400, 500],\n",
        "}"
      ]
    },
    {
      "cell_type": "code",
      "execution_count": 51,
      "metadata": {},
      "outputs": [],
      "source": [
        "cv = TimeSeriesSplit(n_splits=5)"
      ]
    },
    {
      "cell_type": "code",
      "execution_count": 52,
      "metadata": {},
      "outputs": [],
      "source": [
        "grid = GridSearchCV(\n",
        "    RandomForestRegressor(random_state=42), \n",
        "    params, \n",
        "    cv=cv, \n",
        "    scoring='r2', \n",
        "    n_jobs=-1\n",
        ")"
      ]
    },
    {
      "cell_type": "code",
      "execution_count": 53,
      "metadata": {},
      "outputs": [
        {
          "data": {
            "text/html": [
              "<style>#sk-container-id-1 {color: black;background-color: white;}#sk-container-id-1 pre{padding: 0;}#sk-container-id-1 div.sk-toggleable {background-color: white;}#sk-container-id-1 label.sk-toggleable__label {cursor: pointer;display: block;width: 100%;margin-bottom: 0;padding: 0.3em;box-sizing: border-box;text-align: center;}#sk-container-id-1 label.sk-toggleable__label-arrow:before {content: \"▸\";float: left;margin-right: 0.25em;color: #696969;}#sk-container-id-1 label.sk-toggleable__label-arrow:hover:before {color: black;}#sk-container-id-1 div.sk-estimator:hover label.sk-toggleable__label-arrow:before {color: black;}#sk-container-id-1 div.sk-toggleable__content {max-height: 0;max-width: 0;overflow: hidden;text-align: left;background-color: #f0f8ff;}#sk-container-id-1 div.sk-toggleable__content pre {margin: 0.2em;color: black;border-radius: 0.25em;background-color: #f0f8ff;}#sk-container-id-1 input.sk-toggleable__control:checked~div.sk-toggleable__content {max-height: 200px;max-width: 100%;overflow: auto;}#sk-container-id-1 input.sk-toggleable__control:checked~label.sk-toggleable__label-arrow:before {content: \"▾\";}#sk-container-id-1 div.sk-estimator input.sk-toggleable__control:checked~label.sk-toggleable__label {background-color: #d4ebff;}#sk-container-id-1 div.sk-label input.sk-toggleable__control:checked~label.sk-toggleable__label {background-color: #d4ebff;}#sk-container-id-1 input.sk-hidden--visually {border: 0;clip: rect(1px 1px 1px 1px);clip: rect(1px, 1px, 1px, 1px);height: 1px;margin: -1px;overflow: hidden;padding: 0;position: absolute;width: 1px;}#sk-container-id-1 div.sk-estimator {font-family: monospace;background-color: #f0f8ff;border: 1px dotted black;border-radius: 0.25em;box-sizing: border-box;margin-bottom: 0.5em;}#sk-container-id-1 div.sk-estimator:hover {background-color: #d4ebff;}#sk-container-id-1 div.sk-parallel-item::after {content: \"\";width: 100%;border-bottom: 1px solid gray;flex-grow: 1;}#sk-container-id-1 div.sk-label:hover label.sk-toggleable__label {background-color: #d4ebff;}#sk-container-id-1 div.sk-serial::before {content: \"\";position: absolute;border-left: 1px solid gray;box-sizing: border-box;top: 0;bottom: 0;left: 50%;z-index: 0;}#sk-container-id-1 div.sk-serial {display: flex;flex-direction: column;align-items: center;background-color: white;padding-right: 0.2em;padding-left: 0.2em;position: relative;}#sk-container-id-1 div.sk-item {position: relative;z-index: 1;}#sk-container-id-1 div.sk-parallel {display: flex;align-items: stretch;justify-content: center;background-color: white;position: relative;}#sk-container-id-1 div.sk-item::before, #sk-container-id-1 div.sk-parallel-item::before {content: \"\";position: absolute;border-left: 1px solid gray;box-sizing: border-box;top: 0;bottom: 0;left: 50%;z-index: -1;}#sk-container-id-1 div.sk-parallel-item {display: flex;flex-direction: column;z-index: 1;position: relative;background-color: white;}#sk-container-id-1 div.sk-parallel-item:first-child::after {align-self: flex-end;width: 50%;}#sk-container-id-1 div.sk-parallel-item:last-child::after {align-self: flex-start;width: 50%;}#sk-container-id-1 div.sk-parallel-item:only-child::after {width: 0;}#sk-container-id-1 div.sk-dashed-wrapped {border: 1px dashed gray;margin: 0 0.4em 0.5em 0.4em;box-sizing: border-box;padding-bottom: 0.4em;background-color: white;}#sk-container-id-1 div.sk-label label {font-family: monospace;font-weight: bold;display: inline-block;line-height: 1.2em;}#sk-container-id-1 div.sk-label-container {text-align: center;}#sk-container-id-1 div.sk-container {/* jupyter's `normalize.less` sets `[hidden] { display: none; }` but bootstrap.min.css set `[hidden] { display: none !important; }` so we also need the `!important` here to be able to override the default hidden behavior on the sphinx rendered scikit-learn.org. See: https://github.com/scikit-learn/scikit-learn/issues/21755 */display: inline-block !important;position: relative;}#sk-container-id-1 div.sk-text-repr-fallback {display: none;}</style><div id=\"sk-container-id-1\" class=\"sk-top-container\"><div class=\"sk-text-repr-fallback\"><pre>GridSearchCV(cv=TimeSeriesSplit(gap=0, max_train_size=None, n_splits=5, test_size=None),\n",
              "             estimator=RandomForestRegressor(random_state=42), n_jobs=-1,\n",
              "             param_grid={&#x27;n_estimators&#x27;: [100, 200, 300, 400, 500]},\n",
              "             scoring=&#x27;r2&#x27;)</pre><b>In a Jupyter environment, please rerun this cell to show the HTML representation or trust the notebook. <br />On GitHub, the HTML representation is unable to render, please try loading this page with nbviewer.org.</b></div><div class=\"sk-container\" hidden><div class=\"sk-item sk-dashed-wrapped\"><div class=\"sk-label-container\"><div class=\"sk-label sk-toggleable\"><input class=\"sk-toggleable__control sk-hidden--visually\" id=\"sk-estimator-id-1\" type=\"checkbox\" ><label for=\"sk-estimator-id-1\" class=\"sk-toggleable__label sk-toggleable__label-arrow\">GridSearchCV</label><div class=\"sk-toggleable__content\"><pre>GridSearchCV(cv=TimeSeriesSplit(gap=0, max_train_size=None, n_splits=5, test_size=None),\n",
              "             estimator=RandomForestRegressor(random_state=42), n_jobs=-1,\n",
              "             param_grid={&#x27;n_estimators&#x27;: [100, 200, 300, 400, 500]},\n",
              "             scoring=&#x27;r2&#x27;)</pre></div></div></div><div class=\"sk-parallel\"><div class=\"sk-parallel-item\"><div class=\"sk-item\"><div class=\"sk-label-container\"><div class=\"sk-label sk-toggleable\"><input class=\"sk-toggleable__control sk-hidden--visually\" id=\"sk-estimator-id-2\" type=\"checkbox\" ><label for=\"sk-estimator-id-2\" class=\"sk-toggleable__label sk-toggleable__label-arrow\">estimator: RandomForestRegressor</label><div class=\"sk-toggleable__content\"><pre>RandomForestRegressor(random_state=42)</pre></div></div></div><div class=\"sk-serial\"><div class=\"sk-item\"><div class=\"sk-estimator sk-toggleable\"><input class=\"sk-toggleable__control sk-hidden--visually\" id=\"sk-estimator-id-3\" type=\"checkbox\" ><label for=\"sk-estimator-id-3\" class=\"sk-toggleable__label sk-toggleable__label-arrow\">RandomForestRegressor</label><div class=\"sk-toggleable__content\"><pre>RandomForestRegressor(random_state=42)</pre></div></div></div></div></div></div></div></div></div></div>"
            ],
            "text/plain": [
              "GridSearchCV(cv=TimeSeriesSplit(gap=0, max_train_size=None, n_splits=5, test_size=None),\n",
              "             estimator=RandomForestRegressor(random_state=42), n_jobs=-1,\n",
              "             param_grid={'n_estimators': [100, 200, 300, 400, 500]},\n",
              "             scoring='r2')"
            ]
          },
          "execution_count": 53,
          "metadata": {},
          "output_type": "execute_result"
        }
      ],
      "source": [
        "grid.fit(X_train, y_train)"
      ]
    },
    {
      "cell_type": "code",
      "execution_count": 56,
      "metadata": {},
      "outputs": [
        {
          "name": "stdout",
          "output_type": "stream",
          "text": [
            "{'n_estimators': 200}\n"
          ]
        }
      ],
      "source": [
        "print(grid.best_params_)"
      ]
    },
    {
      "cell_type": "code",
      "execution_count": 61,
      "metadata": {},
      "outputs": [],
      "source": [
        "grid_df = pd.DataFrame(grid.cv_results_)\n",
        "grid_df.set_index('rank_test_score', inplace=True)\n",
        "grid_df.sort_index(inplace=True)"
      ]
    },
    {
      "cell_type": "code",
      "execution_count": 64,
      "metadata": {},
      "outputs": [
        {
          "data": {
            "text/html": [
              "<div>\n",
              "<style scoped>\n",
              "    .dataframe tbody tr th:only-of-type {\n",
              "        vertical-align: middle;\n",
              "    }\n",
              "\n",
              "    .dataframe tbody tr th {\n",
              "        vertical-align: top;\n",
              "    }\n",
              "\n",
              "    .dataframe thead th {\n",
              "        text-align: right;\n",
              "    }\n",
              "</style>\n",
              "<table border=\"1\" class=\"dataframe\">\n",
              "  <thead>\n",
              "    <tr style=\"text-align: right;\">\n",
              "      <th></th>\n",
              "      <th>mean_fit_time</th>\n",
              "      <th>std_fit_time</th>\n",
              "      <th>mean_score_time</th>\n",
              "      <th>std_score_time</th>\n",
              "      <th>param_n_estimators</th>\n",
              "      <th>params</th>\n",
              "      <th>split0_test_score</th>\n",
              "      <th>split1_test_score</th>\n",
              "      <th>split2_test_score</th>\n",
              "      <th>split3_test_score</th>\n",
              "      <th>split4_test_score</th>\n",
              "      <th>mean_test_score</th>\n",
              "      <th>std_test_score</th>\n",
              "    </tr>\n",
              "    <tr>\n",
              "      <th>rank_test_score</th>\n",
              "      <th></th>\n",
              "      <th></th>\n",
              "      <th></th>\n",
              "      <th></th>\n",
              "      <th></th>\n",
              "      <th></th>\n",
              "      <th></th>\n",
              "      <th></th>\n",
              "      <th></th>\n",
              "      <th></th>\n",
              "      <th></th>\n",
              "      <th></th>\n",
              "      <th></th>\n",
              "    </tr>\n",
              "  </thead>\n",
              "  <tbody>\n",
              "    <tr>\n",
              "      <th>1</th>\n",
              "      <td>3.420903</td>\n",
              "      <td>1.806991</td>\n",
              "      <td>0.034809</td>\n",
              "      <td>0.006186</td>\n",
              "      <td>200</td>\n",
              "      <td>{'n_estimators': 200}</td>\n",
              "      <td>0.979930</td>\n",
              "      <td>0.962721</td>\n",
              "      <td>0.981137</td>\n",
              "      <td>0.953181</td>\n",
              "      <td>0.979209</td>\n",
              "      <td>0.971236</td>\n",
              "      <td>0.011275</td>\n",
              "    </tr>\n",
              "    <tr>\n",
              "      <th>2</th>\n",
              "      <td>5.777297</td>\n",
              "      <td>2.852108</td>\n",
              "      <td>0.047476</td>\n",
              "      <td>0.002626</td>\n",
              "      <td>300</td>\n",
              "      <td>{'n_estimators': 300}</td>\n",
              "      <td>0.979878</td>\n",
              "      <td>0.962152</td>\n",
              "      <td>0.981101</td>\n",
              "      <td>0.953356</td>\n",
              "      <td>0.979385</td>\n",
              "      <td>0.971174</td>\n",
              "      <td>0.011319</td>\n",
              "    </tr>\n",
              "    <tr>\n",
              "      <th>3</th>\n",
              "      <td>1.611855</td>\n",
              "      <td>0.746286</td>\n",
              "      <td>0.017155</td>\n",
              "      <td>0.000977</td>\n",
              "      <td>100</td>\n",
              "      <td>{'n_estimators': 100}</td>\n",
              "      <td>0.979522</td>\n",
              "      <td>0.962085</td>\n",
              "      <td>0.982266</td>\n",
              "      <td>0.953016</td>\n",
              "      <td>0.978844</td>\n",
              "      <td>0.971147</td>\n",
              "      <td>0.011523</td>\n",
              "    </tr>\n",
              "    <tr>\n",
              "      <th>4</th>\n",
              "      <td>7.573161</td>\n",
              "      <td>3.605153</td>\n",
              "      <td>0.068620</td>\n",
              "      <td>0.011570</td>\n",
              "      <td>400</td>\n",
              "      <td>{'n_estimators': 400}</td>\n",
              "      <td>0.980011</td>\n",
              "      <td>0.961209</td>\n",
              "      <td>0.980778</td>\n",
              "      <td>0.953223</td>\n",
              "      <td>0.979462</td>\n",
              "      <td>0.970937</td>\n",
              "      <td>0.011492</td>\n",
              "    </tr>\n",
              "    <tr>\n",
              "      <th>5</th>\n",
              "      <td>8.811418</td>\n",
              "      <td>4.027334</td>\n",
              "      <td>0.072607</td>\n",
              "      <td>0.006297</td>\n",
              "      <td>500</td>\n",
              "      <td>{'n_estimators': 500}</td>\n",
              "      <td>0.979838</td>\n",
              "      <td>0.961116</td>\n",
              "      <td>0.980890</td>\n",
              "      <td>0.953188</td>\n",
              "      <td>0.979553</td>\n",
              "      <td>0.970917</td>\n",
              "      <td>0.011524</td>\n",
              "    </tr>\n",
              "  </tbody>\n",
              "</table>\n",
              "</div>"
            ],
            "text/plain": [
              "                 mean_fit_time  std_fit_time  mean_score_time  std_score_time  \\\n",
              "rank_test_score                                                                 \n",
              "1                     3.420903      1.806991         0.034809        0.006186   \n",
              "2                     5.777297      2.852108         0.047476        0.002626   \n",
              "3                     1.611855      0.746286         0.017155        0.000977   \n",
              "4                     7.573161      3.605153         0.068620        0.011570   \n",
              "5                     8.811418      4.027334         0.072607        0.006297   \n",
              "\n",
              "                param_n_estimators                 params  split0_test_score  \\\n",
              "rank_test_score                                                                \n",
              "1                              200  {'n_estimators': 200}           0.979930   \n",
              "2                              300  {'n_estimators': 300}           0.979878   \n",
              "3                              100  {'n_estimators': 100}           0.979522   \n",
              "4                              400  {'n_estimators': 400}           0.980011   \n",
              "5                              500  {'n_estimators': 500}           0.979838   \n",
              "\n",
              "                 split1_test_score  split2_test_score  split3_test_score  \\\n",
              "rank_test_score                                                            \n",
              "1                         0.962721           0.981137           0.953181   \n",
              "2                         0.962152           0.981101           0.953356   \n",
              "3                         0.962085           0.982266           0.953016   \n",
              "4                         0.961209           0.980778           0.953223   \n",
              "5                         0.961116           0.980890           0.953188   \n",
              "\n",
              "                 split4_test_score  mean_test_score  std_test_score  \n",
              "rank_test_score                                                      \n",
              "1                         0.979209         0.971236        0.011275  \n",
              "2                         0.979385         0.971174        0.011319  \n",
              "3                         0.978844         0.971147        0.011523  \n",
              "4                         0.979462         0.970937        0.011492  \n",
              "5                         0.979553         0.970917        0.011524  "
            ]
          },
          "execution_count": 64,
          "metadata": {},
          "output_type": "execute_result"
        }
      ],
      "source": [
        "grid_df"
      ]
    },
    {
      "cell_type": "code",
      "execution_count": 67,
      "metadata": {},
      "outputs": [
        {
          "data": {
            "image/png": "[encoded data removed]",
            "text/plain": [
              "<Figure size 640x480 with 1 Axes>"
            ]
          },
          "metadata": {},
          "output_type": "display_data"
        }
      ],
      "source": [
        "sns.lineplot(x='param_n_estimators', y='mean_test_score', data=grid_df)\n",
        "\n",
        "plt.grid(True, alpha=0.5)\n",
        "plt.show()"
      ]
    },
    {
      "cell_type": "markdown",
      "metadata": {
        "id": "OzxTQJABiWAp"
      },
      "source": [
        "## Final Assessment of the Model Performance\n",
        "Upon determining the most suitable `n_estimators` value, evaluate the model's performance on a test set for final assessment."
      ]
    },
    {
      "cell_type": "code",
      "execution_count": 54,
      "metadata": {},
      "outputs": [],
      "source": [
        "y_pred_grid = grid.predict(X_test)"
      ]
    },
    {
      "cell_type": "code",
      "execution_count": 55,
      "metadata": {},
      "outputs": [
        {
          "name": "stdout",
          "output_type": "stream",
          "text": [
            "MAE: 0.22604372979214762\n",
            "MSE: 0.07977549164474577\n",
            "R2: 0.9432012257578419\n"
          ]
        }
      ],
      "source": [
        "print(f'MAE: {mean_absolute_error(y_test, y_pred_grid)}')\n",
        "print(f'MSE: {mean_squared_error(y_test, y_pred_grid)}')\n",
        "print(f'R2: {r2_score(y_test, y_pred_grid)}')"
      ]
    }
  ],
  "metadata": {
    "colab": {
      "provenance": []
    },
    "kernelspec": {
      "display_name": "Python 3",
      "name": "python3"
    },
    "language_info": {
      "codemirror_mode": {
        "name": "ipython",
        "version": 3
      },
      "file_extension": ".py",
      "mimetype": "text/x-python",
      "name": "python",
      "nbconvert_exporter": "python",
      "pygments_lexer": "ipython3",
      "version": "3.10.9"
    }
  },
  "nbformat": 4,
  "nbformat_minor": 0
}
