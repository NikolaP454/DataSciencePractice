{
 "cells": [
  {
   "cell_type": "markdown",
   "metadata": {},
   "source": [
    "# Import Dependencies"
   ]
  },
  {
   "cell_type": "code",
   "execution_count": 38,
   "metadata": {},
   "outputs": [],
   "source": [
    "import os\n",
    "import pandas as pd\n",
    "import numpy as np\n",
    "\n",
    "from sklearn.model_selection import train_test_split, GridSearchCV, KFold, cross_val_score\n",
    "from sklearn.preprocessing import StandardScaler\n",
    "from sklearn.metrics import mean_squared_error, r2_score, mean_absolute_error\n",
    "from xgboost import XGBRegressor\n",
    "\n",
    "from transformers import pipeline\n",
    "\n",
    "import seaborn as sns\n",
    "import matplotlib.pyplot as plt "
   ]
  },
  {
   "cell_type": "code",
   "execution_count": 102,
   "metadata": {},
   "outputs": [],
   "source": [
    "import keras\n",
    "from keras import Model\n",
    "from keras.layers import Input, Dense, concatenate, Embedding\n",
    "from keras.layers import Conv1D, MaxPool1D, LSTM\n",
    "\n",
    "from keras.preprocessing.text import Tokenizer\n",
    "from keras.preprocessing.sequence import pad_sequences"
   ]
  },
  {
   "cell_type": "markdown",
   "metadata": {},
   "source": [
    "# Data Prep"
   ]
  },
  {
   "cell_type": "markdown",
   "metadata": {},
   "source": [
    "## Import data"
   ]
  },
  {
   "cell_type": "code",
   "execution_count": 39,
   "metadata": {},
   "outputs": [],
   "source": [
    "djia_df = pd.read_csv('../data/DJIA_table.csv', index_col='Date')\n",
    "reddit_df = pd.read_csv('../data/RedditNews.csv')"
   ]
  },
  {
   "cell_type": "code",
   "execution_count": 40,
   "metadata": {},
   "outputs": [
    {
     "data": {
      "text/html": [
       "<div>\n",
       "<style scoped>\n",
       "    .dataframe tbody tr th:only-of-type {\n",
       "        vertical-align: middle;\n",
       "    }\n",
       "\n",
       "    .dataframe tbody tr th {\n",
       "        vertical-align: top;\n",
       "    }\n",
       "\n",
       "    .dataframe thead th {\n",
       "        text-align: right;\n",
       "    }\n",
       "</style>\n",
       "<table border=\"1\" class=\"dataframe\">\n",
       "  <thead>\n",
       "    <tr style=\"text-align: right;\">\n",
       "      <th></th>\n",
       "      <th>Open</th>\n",
       "      <th>High</th>\n",
       "      <th>Low</th>\n",
       "      <th>Close</th>\n",
       "      <th>Volume</th>\n",
       "      <th>Adj Close</th>\n",
       "    </tr>\n",
       "    <tr>\n",
       "      <th>Date</th>\n",
       "      <th></th>\n",
       "      <th></th>\n",
       "      <th></th>\n",
       "      <th></th>\n",
       "      <th></th>\n",
       "      <th></th>\n",
       "    </tr>\n",
       "  </thead>\n",
       "  <tbody>\n",
       "    <tr>\n",
       "      <th>2016-07-01</th>\n",
       "      <td>17924.240234</td>\n",
       "      <td>18002.380859</td>\n",
       "      <td>17916.910156</td>\n",
       "      <td>17949.369141</td>\n",
       "      <td>82160000</td>\n",
       "      <td>17949.369141</td>\n",
       "    </tr>\n",
       "    <tr>\n",
       "      <th>2016-06-30</th>\n",
       "      <td>17712.759766</td>\n",
       "      <td>17930.609375</td>\n",
       "      <td>17711.800781</td>\n",
       "      <td>17929.990234</td>\n",
       "      <td>133030000</td>\n",
       "      <td>17929.990234</td>\n",
       "    </tr>\n",
       "    <tr>\n",
       "      <th>2016-06-29</th>\n",
       "      <td>17456.019531</td>\n",
       "      <td>17704.509766</td>\n",
       "      <td>17456.019531</td>\n",
       "      <td>17694.679688</td>\n",
       "      <td>106380000</td>\n",
       "      <td>17694.679688</td>\n",
       "    </tr>\n",
       "    <tr>\n",
       "      <th>2016-06-28</th>\n",
       "      <td>17190.509766</td>\n",
       "      <td>17409.720703</td>\n",
       "      <td>17190.509766</td>\n",
       "      <td>17409.720703</td>\n",
       "      <td>112190000</td>\n",
       "      <td>17409.720703</td>\n",
       "    </tr>\n",
       "    <tr>\n",
       "      <th>2016-06-27</th>\n",
       "      <td>17355.210938</td>\n",
       "      <td>17355.210938</td>\n",
       "      <td>17063.080078</td>\n",
       "      <td>17140.240234</td>\n",
       "      <td>138740000</td>\n",
       "      <td>17140.240234</td>\n",
       "    </tr>\n",
       "  </tbody>\n",
       "</table>\n",
       "</div>"
      ],
      "text/plain": [
       "                    Open          High           Low         Close     Volume  \\\n",
       "Date                                                                            \n",
       "2016-07-01  17924.240234  18002.380859  17916.910156  17949.369141   82160000   \n",
       "2016-06-30  17712.759766  17930.609375  17711.800781  17929.990234  133030000   \n",
       "2016-06-29  17456.019531  17704.509766  17456.019531  17694.679688  106380000   \n",
       "2016-06-28  17190.509766  17409.720703  17190.509766  17409.720703  112190000   \n",
       "2016-06-27  17355.210938  17355.210938  17063.080078  17140.240234  138740000   \n",
       "\n",
       "               Adj Close  \n",
       "Date                      \n",
       "2016-07-01  17949.369141  \n",
       "2016-06-30  17929.990234  \n",
       "2016-06-29  17694.679688  \n",
       "2016-06-28  17409.720703  \n",
       "2016-06-27  17140.240234  "
      ]
     },
     "execution_count": 40,
     "metadata": {},
     "output_type": "execute_result"
    }
   ],
   "source": [
    "djia_df.head(5)"
   ]
  },
  {
   "cell_type": "code",
   "execution_count": 41,
   "metadata": {},
   "outputs": [
    {
     "data": {
      "text/html": [
       "<div>\n",
       "<style scoped>\n",
       "    .dataframe tbody tr th:only-of-type {\n",
       "        vertical-align: middle;\n",
       "    }\n",
       "\n",
       "    .dataframe tbody tr th {\n",
       "        vertical-align: top;\n",
       "    }\n",
       "\n",
       "    .dataframe thead th {\n",
       "        text-align: right;\n",
       "    }\n",
       "</style>\n",
       "<table border=\"1\" class=\"dataframe\">\n",
       "  <thead>\n",
       "    <tr style=\"text-align: right;\">\n",
       "      <th></th>\n",
       "      <th>Open</th>\n",
       "      <th>High</th>\n",
       "      <th>Low</th>\n",
       "      <th>Close</th>\n",
       "      <th>Volume</th>\n",
       "      <th>Adj Close</th>\n",
       "    </tr>\n",
       "    <tr>\n",
       "      <th>Date</th>\n",
       "      <th></th>\n",
       "      <th></th>\n",
       "      <th></th>\n",
       "      <th></th>\n",
       "      <th></th>\n",
       "      <th></th>\n",
       "    </tr>\n",
       "  </thead>\n",
       "  <tbody>\n",
       "    <tr>\n",
       "      <th>2008-08-08</th>\n",
       "      <td>11432.089844</td>\n",
       "      <td>11759.959961</td>\n",
       "      <td>11388.040039</td>\n",
       "      <td>11734.320312</td>\n",
       "      <td>212830000</td>\n",
       "      <td>11734.320312</td>\n",
       "    </tr>\n",
       "    <tr>\n",
       "      <th>2008-08-11</th>\n",
       "      <td>11729.669922</td>\n",
       "      <td>11867.110352</td>\n",
       "      <td>11675.530273</td>\n",
       "      <td>11782.349609</td>\n",
       "      <td>183190000</td>\n",
       "      <td>11782.349609</td>\n",
       "    </tr>\n",
       "    <tr>\n",
       "      <th>2008-08-12</th>\n",
       "      <td>11781.700195</td>\n",
       "      <td>11782.349609</td>\n",
       "      <td>11601.519531</td>\n",
       "      <td>11642.469727</td>\n",
       "      <td>173590000</td>\n",
       "      <td>11642.469727</td>\n",
       "    </tr>\n",
       "  </tbody>\n",
       "</table>\n",
       "</div>"
      ],
      "text/plain": [
       "                    Open          High           Low         Close     Volume  \\\n",
       "Date                                                                            \n",
       "2008-08-08  11432.089844  11759.959961  11388.040039  11734.320312  212830000   \n",
       "2008-08-11  11729.669922  11867.110352  11675.530273  11782.349609  183190000   \n",
       "2008-08-12  11781.700195  11782.349609  11601.519531  11642.469727  173590000   \n",
       "\n",
       "               Adj Close  \n",
       "Date                      \n",
       "2008-08-08  11734.320312  \n",
       "2008-08-11  11782.349609  \n",
       "2008-08-12  11642.469727  "
      ]
     },
     "execution_count": 41,
     "metadata": {},
     "output_type": "execute_result"
    }
   ],
   "source": [
    "djia_df.sort_index(inplace=True)\n",
    "djia_df.head(3)"
   ]
  },
  {
   "cell_type": "code",
   "execution_count": 42,
   "metadata": {},
   "outputs": [
    {
     "data": {
      "text/html": [
       "<div>\n",
       "<style scoped>\n",
       "    .dataframe tbody tr th:only-of-type {\n",
       "        vertical-align: middle;\n",
       "    }\n",
       "\n",
       "    .dataframe tbody tr th {\n",
       "        vertical-align: top;\n",
       "    }\n",
       "\n",
       "    .dataframe thead th {\n",
       "        text-align: right;\n",
       "    }\n",
       "</style>\n",
       "<table border=\"1\" class=\"dataframe\">\n",
       "  <thead>\n",
       "    <tr style=\"text-align: right;\">\n",
       "      <th></th>\n",
       "      <th>Date</th>\n",
       "      <th>News</th>\n",
       "    </tr>\n",
       "  </thead>\n",
       "  <tbody>\n",
       "    <tr>\n",
       "      <th>0</th>\n",
       "      <td>2016-07-01</td>\n",
       "      <td>A 117-year-old woman in Mexico City finally re...</td>\n",
       "    </tr>\n",
       "    <tr>\n",
       "      <th>1</th>\n",
       "      <td>2016-07-01</td>\n",
       "      <td>IMF chief backs Athens as permanent Olympic host</td>\n",
       "    </tr>\n",
       "    <tr>\n",
       "      <th>2</th>\n",
       "      <td>2016-07-01</td>\n",
       "      <td>The president of France says if Brexit won, so...</td>\n",
       "    </tr>\n",
       "    <tr>\n",
       "      <th>3</th>\n",
       "      <td>2016-07-01</td>\n",
       "      <td>British Man Who Must Give Police 24 Hours' Not...</td>\n",
       "    </tr>\n",
       "    <tr>\n",
       "      <th>4</th>\n",
       "      <td>2016-07-01</td>\n",
       "      <td>100+ Nobel laureates urge Greenpeace to stop o...</td>\n",
       "    </tr>\n",
       "    <tr>\n",
       "      <th>...</th>\n",
       "      <td>...</td>\n",
       "      <td>...</td>\n",
       "    </tr>\n",
       "    <tr>\n",
       "      <th>73603</th>\n",
       "      <td>2008-06-08</td>\n",
       "      <td>b'Man goes berzerk in Akihabara and stabs ever...</td>\n",
       "    </tr>\n",
       "    <tr>\n",
       "      <th>73604</th>\n",
       "      <td>2008-06-08</td>\n",
       "      <td>b'Threat of world AIDS pandemic among heterose...</td>\n",
       "    </tr>\n",
       "    <tr>\n",
       "      <th>73605</th>\n",
       "      <td>2008-06-08</td>\n",
       "      <td>b'Angst in Ankara: Turkey Steers into a Danger...</td>\n",
       "    </tr>\n",
       "    <tr>\n",
       "      <th>73606</th>\n",
       "      <td>2008-06-08</td>\n",
       "      <td>b\"UK: Identity cards 'could be used to spy on ...</td>\n",
       "    </tr>\n",
       "    <tr>\n",
       "      <th>73607</th>\n",
       "      <td>2008-06-08</td>\n",
       "      <td>b'Marriage, they said, was reduced to the stat...</td>\n",
       "    </tr>\n",
       "  </tbody>\n",
       "</table>\n",
       "<p>73608 rows × 2 columns</p>\n",
       "</div>"
      ],
      "text/plain": [
       "             Date                                               News\n",
       "0      2016-07-01  A 117-year-old woman in Mexico City finally re...\n",
       "1      2016-07-01   IMF chief backs Athens as permanent Olympic host\n",
       "2      2016-07-01  The president of France says if Brexit won, so...\n",
       "3      2016-07-01  British Man Who Must Give Police 24 Hours' Not...\n",
       "4      2016-07-01  100+ Nobel laureates urge Greenpeace to stop o...\n",
       "...           ...                                                ...\n",
       "73603  2008-06-08  b'Man goes berzerk in Akihabara and stabs ever...\n",
       "73604  2008-06-08  b'Threat of world AIDS pandemic among heterose...\n",
       "73605  2008-06-08  b'Angst in Ankara: Turkey Steers into a Danger...\n",
       "73606  2008-06-08  b\"UK: Identity cards 'could be used to spy on ...\n",
       "73607  2008-06-08  b'Marriage, they said, was reduced to the stat...\n",
       "\n",
       "[73608 rows x 2 columns]"
      ]
     },
     "execution_count": 42,
     "metadata": {},
     "output_type": "execute_result"
    }
   ],
   "source": [
    "reddit_df"
   ]
  },
  {
   "cell_type": "markdown",
   "metadata": {},
   "source": [
    "## Feature Engineering"
   ]
  },
  {
   "cell_type": "markdown",
   "metadata": {},
   "source": [
    "### DJIA Data"
   ]
  },
  {
   "cell_type": "code",
   "execution_count": 43,
   "metadata": {},
   "outputs": [
    {
     "data": {
      "text/plain": [
       "array([0.])"
      ]
     },
     "execution_count": 43,
     "metadata": {},
     "output_type": "execute_result"
    }
   ],
   "source": [
    "(djia_df['Close'] - djia_df['Adj Close']).unique()"
   ]
  },
  {
   "cell_type": "code",
   "execution_count": 44,
   "metadata": {},
   "outputs": [],
   "source": [
    "djia_df.drop(['Adj Close'], axis=1, inplace=True)"
   ]
  },
  {
   "cell_type": "code",
   "execution_count": 45,
   "metadata": {},
   "outputs": [],
   "source": [
    "for i in range(1, 6):\n",
    "    djia_df[f'Open Minus {i}'] = djia_df['Open'].shift(i)\n",
    "    djia_df[f'High Minus {i}'] = djia_df['High'].shift(i)\n",
    "    djia_df[f'Low Minus {i}'] = djia_df['Low'].shift(i)\n",
    "    djia_df[f'Close Minus {i}'] = djia_df['Close'].shift(i)"
   ]
  },
  {
   "cell_type": "code",
   "execution_count": 46,
   "metadata": {},
   "outputs": [],
   "source": [
    "djia_df.dropna(inplace=True)"
   ]
  },
  {
   "cell_type": "markdown",
   "metadata": {},
   "source": [
    "### Reddit Data"
   ]
  },
  {
   "cell_type": "code",
   "execution_count": 47,
   "metadata": {},
   "outputs": [],
   "source": [
    "reddit_joined_df = reddit_df.groupby('Date').agg(join_news=('News', '<split>'.join))\n",
    "\n",
    "reddit_joined_df['join_news'] = reddit_joined_df['join_news'].str.split('<split>')\n",
    "reddit_joined_df = reddit_joined_df[reddit_joined_df['join_news'].str.len() == 25]\n",
    "\n",
    "reddit_joined_df[[f'News {i}' for i in range(1, 26)]] = reddit_joined_df['join_news'].apply(pd.Series)"
   ]
  },
  {
   "cell_type": "code",
   "execution_count": 48,
   "metadata": {},
   "outputs": [
    {
     "data": {
      "text/html": [
       "<div>\n",
       "<style scoped>\n",
       "    .dataframe tbody tr th:only-of-type {\n",
       "        vertical-align: middle;\n",
       "    }\n",
       "\n",
       "    .dataframe tbody tr th {\n",
       "        vertical-align: top;\n",
       "    }\n",
       "\n",
       "    .dataframe thead th {\n",
       "        text-align: right;\n",
       "    }\n",
       "</style>\n",
       "<table border=\"1\" class=\"dataframe\">\n",
       "  <thead>\n",
       "    <tr style=\"text-align: right;\">\n",
       "      <th></th>\n",
       "      <th>join_news</th>\n",
       "      <th>News 1</th>\n",
       "      <th>News 2</th>\n",
       "      <th>News 3</th>\n",
       "      <th>News 4</th>\n",
       "      <th>News 5</th>\n",
       "      <th>News 6</th>\n",
       "      <th>News 7</th>\n",
       "      <th>News 8</th>\n",
       "      <th>News 9</th>\n",
       "      <th>...</th>\n",
       "      <th>News 16</th>\n",
       "      <th>News 17</th>\n",
       "      <th>News 18</th>\n",
       "      <th>News 19</th>\n",
       "      <th>News 20</th>\n",
       "      <th>News 21</th>\n",
       "      <th>News 22</th>\n",
       "      <th>News 23</th>\n",
       "      <th>News 24</th>\n",
       "      <th>News 25</th>\n",
       "    </tr>\n",
       "    <tr>\n",
       "      <th>Date</th>\n",
       "      <th></th>\n",
       "      <th></th>\n",
       "      <th></th>\n",
       "      <th></th>\n",
       "      <th></th>\n",
       "      <th></th>\n",
       "      <th></th>\n",
       "      <th></th>\n",
       "      <th></th>\n",
       "      <th></th>\n",
       "      <th></th>\n",
       "      <th></th>\n",
       "      <th></th>\n",
       "      <th></th>\n",
       "      <th></th>\n",
       "      <th></th>\n",
       "      <th></th>\n",
       "      <th></th>\n",
       "      <th></th>\n",
       "      <th></th>\n",
       "      <th></th>\n",
       "    </tr>\n",
       "  </thead>\n",
       "  <tbody>\n",
       "    <tr>\n",
       "      <th>2008-06-08</th>\n",
       "      <td>[b'Nim Chimpsky: The tragedy of the chimp who ...</td>\n",
       "      <td>b'Nim Chimpsky: The tragedy of the chimp who t...</td>\n",
       "      <td>b\"Canada: Beware slippery slope' to censorship...</td>\n",
       "      <td>b'EU Vice-President Luisa Morgantini and the I...</td>\n",
       "      <td>b\"Israeli minister: Israel will attack Iran if...</td>\n",
       "      <td>b'Albino Killings in Tanzania. At least 19 alb...</td>\n",
       "      <td>b'Chiapas: army occupies Zapatista communities...</td>\n",
       "      <td>b'Polar bear swims 200 miles, is shot dead upo...</td>\n",
       "      <td>b'News is a contraband item in Pakistan now, a...</td>\n",
       "      <td>b'Albinos, Long Shunned, Face Threat in Tanzan...</td>\n",
       "      <td>...</td>\n",
       "      <td>b\"S. Korean protesters, police clash in beef r...</td>\n",
       "      <td>b\"Oil reserves 'will last decades' - a BBC Sco...</td>\n",
       "      <td>b'Cameras designed to detect terrorist facial ...</td>\n",
       "      <td>b'Israeli peace activists protest 41 years of ...</td>\n",
       "      <td>b\"A 5.1 earthquake hits China's Southern Qingh...</td>\n",
       "      <td>b'Man goes berzerk in Akihabara and stabs ever...</td>\n",
       "      <td>b'Threat of world AIDS pandemic among heterose...</td>\n",
       "      <td>b'Angst in Ankara: Turkey Steers into a Danger...</td>\n",
       "      <td>b\"UK: Identity cards 'could be used to spy on ...</td>\n",
       "      <td>b'Marriage, they said, was reduced to the stat...</td>\n",
       "    </tr>\n",
       "    <tr>\n",
       "      <th>2008-06-09</th>\n",
       "      <td>[b'United States quits Human Rights Council', ...</td>\n",
       "      <td>b'United States quits Human Rights Council'</td>\n",
       "      <td>b\"Pentagon blocked Cheney's attack on Iran\"</td>\n",
       "      <td>b\"'J Street,' a new liberal Jewish organizatio...</td>\n",
       "      <td>b'Former Ambassador Joseph Wilson: \"[The U.S. ...</td>\n",
       "      <td>b'EU leaders anxiously await Irish verdict on ...</td>\n",
       "      <td>b\" 17 Hit or Stabbed, 7 Confirmed Dead in Toky...</td>\n",
       "      <td>b'Treaty tensions mount as Iraq tells the US i...</td>\n",
       "      <td>b\"Council paints over street artist Banksy's g...</td>\n",
       "      <td>b'\"Finders keepers\" can get complicated when h...</td>\n",
       "      <td>...</td>\n",
       "      <td>b'35 Ukraine miners trapped underground - thre...</td>\n",
       "      <td>b'Bilderberg attendee Geithner calls for globa...</td>\n",
       "      <td>b'Jos Manuel Barroso bullies the Irish, saying...</td>\n",
       "      <td>b\"Don't worry everyone, AIDS is officially over!\"</td>\n",
       "      <td>b'What if Bush Attacks Iran on His Way Out of ...</td>\n",
       "      <td>b'Future of the United States of Europe in the...</td>\n",
       "      <td>b\"'Military coup' in Zimbabwe as Mugabe is for...</td>\n",
       "      <td>b'Rising Oil Prices Spark Strikes in Spain and...</td>\n",
       "      <td>b'Chvez to FARC: Asks to end armed strugle, \"T...</td>\n",
       "      <td>b'Fliers in for pain as airlines pack it in'</td>\n",
       "    </tr>\n",
       "  </tbody>\n",
       "</table>\n",
       "<p>2 rows × 26 columns</p>\n",
       "</div>"
      ],
      "text/plain": [
       "                                                    join_news  \\\n",
       "Date                                                            \n",
       "2008-06-08  [b'Nim Chimpsky: The tragedy of the chimp who ...   \n",
       "2008-06-09  [b'United States quits Human Rights Council', ...   \n",
       "\n",
       "                                                       News 1  \\\n",
       "Date                                                            \n",
       "2008-06-08  b'Nim Chimpsky: The tragedy of the chimp who t...   \n",
       "2008-06-09        b'United States quits Human Rights Council'   \n",
       "\n",
       "                                                       News 2  \\\n",
       "Date                                                            \n",
       "2008-06-08  b\"Canada: Beware slippery slope' to censorship...   \n",
       "2008-06-09        b\"Pentagon blocked Cheney's attack on Iran\"   \n",
       "\n",
       "                                                       News 3  \\\n",
       "Date                                                            \n",
       "2008-06-08  b'EU Vice-President Luisa Morgantini and the I...   \n",
       "2008-06-09  b\"'J Street,' a new liberal Jewish organizatio...   \n",
       "\n",
       "                                                       News 4  \\\n",
       "Date                                                            \n",
       "2008-06-08  b\"Israeli minister: Israel will attack Iran if...   \n",
       "2008-06-09  b'Former Ambassador Joseph Wilson: \"[The U.S. ...   \n",
       "\n",
       "                                                       News 5  \\\n",
       "Date                                                            \n",
       "2008-06-08  b'Albino Killings in Tanzania. At least 19 alb...   \n",
       "2008-06-09  b'EU leaders anxiously await Irish verdict on ...   \n",
       "\n",
       "                                                       News 6  \\\n",
       "Date                                                            \n",
       "2008-06-08  b'Chiapas: army occupies Zapatista communities...   \n",
       "2008-06-09  b\" 17 Hit or Stabbed, 7 Confirmed Dead in Toky...   \n",
       "\n",
       "                                                       News 7  \\\n",
       "Date                                                            \n",
       "2008-06-08  b'Polar bear swims 200 miles, is shot dead upo...   \n",
       "2008-06-09  b'Treaty tensions mount as Iraq tells the US i...   \n",
       "\n",
       "                                                       News 8  \\\n",
       "Date                                                            \n",
       "2008-06-08  b'News is a contraband item in Pakistan now, a...   \n",
       "2008-06-09  b\"Council paints over street artist Banksy's g...   \n",
       "\n",
       "                                                       News 9  ...  \\\n",
       "Date                                                           ...   \n",
       "2008-06-08  b'Albinos, Long Shunned, Face Threat in Tanzan...  ...   \n",
       "2008-06-09  b'\"Finders keepers\" can get complicated when h...  ...   \n",
       "\n",
       "                                                      News 16  \\\n",
       "Date                                                            \n",
       "2008-06-08  b\"S. Korean protesters, police clash in beef r...   \n",
       "2008-06-09  b'35 Ukraine miners trapped underground - thre...   \n",
       "\n",
       "                                                      News 17  \\\n",
       "Date                                                            \n",
       "2008-06-08  b\"Oil reserves 'will last decades' - a BBC Sco...   \n",
       "2008-06-09  b'Bilderberg attendee Geithner calls for globa...   \n",
       "\n",
       "                                                      News 18  \\\n",
       "Date                                                            \n",
       "2008-06-08  b'Cameras designed to detect terrorist facial ...   \n",
       "2008-06-09  b'Jos Manuel Barroso bullies the Irish, saying...   \n",
       "\n",
       "                                                      News 19  \\\n",
       "Date                                                            \n",
       "2008-06-08  b'Israeli peace activists protest 41 years of ...   \n",
       "2008-06-09  b\"Don't worry everyone, AIDS is officially over!\"   \n",
       "\n",
       "                                                      News 20  \\\n",
       "Date                                                            \n",
       "2008-06-08  b\"A 5.1 earthquake hits China's Southern Qingh...   \n",
       "2008-06-09  b'What if Bush Attacks Iran on His Way Out of ...   \n",
       "\n",
       "                                                      News 21  \\\n",
       "Date                                                            \n",
       "2008-06-08  b'Man goes berzerk in Akihabara and stabs ever...   \n",
       "2008-06-09  b'Future of the United States of Europe in the...   \n",
       "\n",
       "                                                      News 22  \\\n",
       "Date                                                            \n",
       "2008-06-08  b'Threat of world AIDS pandemic among heterose...   \n",
       "2008-06-09  b\"'Military coup' in Zimbabwe as Mugabe is for...   \n",
       "\n",
       "                                                      News 23  \\\n",
       "Date                                                            \n",
       "2008-06-08  b'Angst in Ankara: Turkey Steers into a Danger...   \n",
       "2008-06-09  b'Rising Oil Prices Spark Strikes in Spain and...   \n",
       "\n",
       "                                                      News 24  \\\n",
       "Date                                                            \n",
       "2008-06-08  b\"UK: Identity cards 'could be used to spy on ...   \n",
       "2008-06-09  b'Chvez to FARC: Asks to end armed strugle, \"T...   \n",
       "\n",
       "                                                      News 25  \n",
       "Date                                                           \n",
       "2008-06-08  b'Marriage, they said, was reduced to the stat...  \n",
       "2008-06-09       b'Fliers in for pain as airlines pack it in'  \n",
       "\n",
       "[2 rows x 26 columns]"
      ]
     },
     "execution_count": 48,
     "metadata": {},
     "output_type": "execute_result"
    }
   ],
   "source": [
    "reddit_joined_df.head(2)"
   ]
  },
  {
   "cell_type": "markdown",
   "metadata": {},
   "source": [
    "### Join datasets"
   ]
  },
  {
   "cell_type": "code",
   "execution_count": 49,
   "metadata": {},
   "outputs": [],
   "source": [
    "joined_df = djia_df.join(reddit_joined_df.drop(columns=['join_news']), how='inner')"
   ]
  },
  {
   "cell_type": "code",
   "execution_count": 50,
   "metadata": {},
   "outputs": [
    {
     "data": {
      "text/html": [
       "<div>\n",
       "<style scoped>\n",
       "    .dataframe tbody tr th:only-of-type {\n",
       "        vertical-align: middle;\n",
       "    }\n",
       "\n",
       "    .dataframe tbody tr th {\n",
       "        vertical-align: top;\n",
       "    }\n",
       "\n",
       "    .dataframe thead th {\n",
       "        text-align: right;\n",
       "    }\n",
       "</style>\n",
       "<table border=\"1\" class=\"dataframe\">\n",
       "  <thead>\n",
       "    <tr style=\"text-align: right;\">\n",
       "      <th></th>\n",
       "      <th>Open</th>\n",
       "      <th>High</th>\n",
       "      <th>Low</th>\n",
       "      <th>Close</th>\n",
       "      <th>Volume</th>\n",
       "      <th>Open Minus 1</th>\n",
       "      <th>High Minus 1</th>\n",
       "      <th>Low Minus 1</th>\n",
       "      <th>Close Minus 1</th>\n",
       "      <th>Open Minus 2</th>\n",
       "      <th>...</th>\n",
       "      <th>News 16</th>\n",
       "      <th>News 17</th>\n",
       "      <th>News 18</th>\n",
       "      <th>News 19</th>\n",
       "      <th>News 20</th>\n",
       "      <th>News 21</th>\n",
       "      <th>News 22</th>\n",
       "      <th>News 23</th>\n",
       "      <th>News 24</th>\n",
       "      <th>News 25</th>\n",
       "    </tr>\n",
       "    <tr>\n",
       "      <th>Date</th>\n",
       "      <th></th>\n",
       "      <th></th>\n",
       "      <th></th>\n",
       "      <th></th>\n",
       "      <th></th>\n",
       "      <th></th>\n",
       "      <th></th>\n",
       "      <th></th>\n",
       "      <th></th>\n",
       "      <th></th>\n",
       "      <th></th>\n",
       "      <th></th>\n",
       "      <th></th>\n",
       "      <th></th>\n",
       "      <th></th>\n",
       "      <th></th>\n",
       "      <th></th>\n",
       "      <th></th>\n",
       "      <th></th>\n",
       "      <th></th>\n",
       "      <th></th>\n",
       "    </tr>\n",
       "  </thead>\n",
       "  <tbody>\n",
       "    <tr>\n",
       "      <th>2008-08-15</th>\n",
       "      <td>11611.209961</td>\n",
       "      <td>11709.889648</td>\n",
       "      <td>11599.730469</td>\n",
       "      <td>11659.900391</td>\n",
       "      <td>215040000</td>\n",
       "      <td>11532.070312</td>\n",
       "      <td>11718.280273</td>\n",
       "      <td>11450.889648</td>\n",
       "      <td>11615.929688</td>\n",
       "      <td>11632.809570</td>\n",
       "      <td>...</td>\n",
       "      <td>b'Why are redditors generally supportive of Ru...</td>\n",
       "      <td>b'Johann Hari: We need to stop being such cowa...</td>\n",
       "      <td>b'US officials have said that their military p...</td>\n",
       "      <td>b'Israel clears troops who killed Reuters came...</td>\n",
       "      <td>b'Unenforceable laws encourage cops to escalat...</td>\n",
       "      <td>b'What Chinese pollution really looks like'</td>\n",
       "      <td>b'Hacker Kidnaps and Tortures Informant, Posts...</td>\n",
       "      <td>b'Bush Tells Putin: This Aggression Will Not S...</td>\n",
       "      <td>b'Georgia is all about the oil pipelines'</td>\n",
       "      <td>b'Rivals say they plan to remove Georgian pres...</td>\n",
       "    </tr>\n",
       "    <tr>\n",
       "      <th>2008-08-18</th>\n",
       "      <td>11659.650391</td>\n",
       "      <td>11690.429688</td>\n",
       "      <td>11434.120117</td>\n",
       "      <td>11479.389648</td>\n",
       "      <td>156290000</td>\n",
       "      <td>11611.209961</td>\n",
       "      <td>11709.889648</td>\n",
       "      <td>11599.730469</td>\n",
       "      <td>11659.900391</td>\n",
       "      <td>11532.070312</td>\n",
       "      <td>...</td>\n",
       "      <td>b'MI5 seeks gay spies'</td>\n",
       "      <td>b' New porn channel lets Canadians strut their...</td>\n",
       "      <td>b'The Dangerous Neighbor: Vladimir Putin Takes...</td>\n",
       "      <td>b'Israel opinion page: Russians are saner.'</td>\n",
       "      <td>b\"NATO's Hour\"</td>\n",
       "      <td>b'Georgian President Saakashvili Eats His Tie ...</td>\n",
       "      <td>b'No Chicken Left Behind: Animal RFID Surveill...</td>\n",
       "      <td>b'Putin has given us an order that everyone mu...</td>\n",
       "      <td>b'National DNA database grows on the genes of ...</td>\n",
       "      <td>b'Mayor Asks Ugly Women To Visit His Town'</td>\n",
       "    </tr>\n",
       "  </tbody>\n",
       "</table>\n",
       "<p>2 rows × 50 columns</p>\n",
       "</div>"
      ],
      "text/plain": [
       "                    Open          High           Low         Close     Volume  \\\n",
       "Date                                                                            \n",
       "2008-08-15  11611.209961  11709.889648  11599.730469  11659.900391  215040000   \n",
       "2008-08-18  11659.650391  11690.429688  11434.120117  11479.389648  156290000   \n",
       "\n",
       "            Open Minus 1  High Minus 1   Low Minus 1  Close Minus 1  \\\n",
       "Date                                                                  \n",
       "2008-08-15  11532.070312  11718.280273  11450.889648   11615.929688   \n",
       "2008-08-18  11611.209961  11709.889648  11599.730469   11659.900391   \n",
       "\n",
       "            Open Minus 2  ...  \\\n",
       "Date                      ...   \n",
       "2008-08-15  11632.809570  ...   \n",
       "2008-08-18  11532.070312  ...   \n",
       "\n",
       "                                                      News 16  \\\n",
       "Date                                                            \n",
       "2008-08-15  b'Why are redditors generally supportive of Ru...   \n",
       "2008-08-18                             b'MI5 seeks gay spies'   \n",
       "\n",
       "                                                      News 17  \\\n",
       "Date                                                            \n",
       "2008-08-15  b'Johann Hari: We need to stop being such cowa...   \n",
       "2008-08-18  b' New porn channel lets Canadians strut their...   \n",
       "\n",
       "                                                      News 18  \\\n",
       "Date                                                            \n",
       "2008-08-15  b'US officials have said that their military p...   \n",
       "2008-08-18  b'The Dangerous Neighbor: Vladimir Putin Takes...   \n",
       "\n",
       "                                                      News 19  \\\n",
       "Date                                                            \n",
       "2008-08-15  b'Israel clears troops who killed Reuters came...   \n",
       "2008-08-18        b'Israel opinion page: Russians are saner.'   \n",
       "\n",
       "                                                      News 20  \\\n",
       "Date                                                            \n",
       "2008-08-15  b'Unenforceable laws encourage cops to escalat...   \n",
       "2008-08-18                                     b\"NATO's Hour\"   \n",
       "\n",
       "                                                      News 21  \\\n",
       "Date                                                            \n",
       "2008-08-15        b'What Chinese pollution really looks like'   \n",
       "2008-08-18  b'Georgian President Saakashvili Eats His Tie ...   \n",
       "\n",
       "                                                      News 22  \\\n",
       "Date                                                            \n",
       "2008-08-15  b'Hacker Kidnaps and Tortures Informant, Posts...   \n",
       "2008-08-18  b'No Chicken Left Behind: Animal RFID Surveill...   \n",
       "\n",
       "                                                      News 23  \\\n",
       "Date                                                            \n",
       "2008-08-15  b'Bush Tells Putin: This Aggression Will Not S...   \n",
       "2008-08-18  b'Putin has given us an order that everyone mu...   \n",
       "\n",
       "                                                      News 24  \\\n",
       "Date                                                            \n",
       "2008-08-15          b'Georgia is all about the oil pipelines'   \n",
       "2008-08-18  b'National DNA database grows on the genes of ...   \n",
       "\n",
       "                                                      News 25  \n",
       "Date                                                           \n",
       "2008-08-15  b'Rivals say they plan to remove Georgian pres...  \n",
       "2008-08-18         b'Mayor Asks Ugly Women To Visit His Town'  \n",
       "\n",
       "[2 rows x 50 columns]"
      ]
     },
     "execution_count": 50,
     "metadata": {},
     "output_type": "execute_result"
    }
   ],
   "source": [
    "joined_df.head(2)"
   ]
  },
  {
   "cell_type": "markdown",
   "metadata": {},
   "source": [
    "### Feature extraction (News Sentiment)"
   ]
  },
  {
   "cell_type": "markdown",
   "metadata": {},
   "source": [
    "#### Didn't run this because it takes a long time to run"
   ]
  },
  {
   "cell_type": "code",
   "execution_count": 51,
   "metadata": {},
   "outputs": [],
   "source": [
    "# sentiment_analyzer = pipeline('sentiment-analysis', framework='pt')"
   ]
  },
  {
   "cell_type": "code",
   "execution_count": 52,
   "metadata": {},
   "outputs": [],
   "source": [
    "# joined_df['News Sentiment'] = joined_df['News 1'].apply(lambda x: sentiment_analyzer(x)[0]['label'])"
   ]
  },
  {
   "cell_type": "markdown",
   "metadata": {},
   "source": [
    "### Final DataFrame"
   ]
  },
  {
   "cell_type": "markdown",
   "metadata": {},
   "source": [
    "#### Dropping News information due to processing limitations"
   ]
  },
  {
   "cell_type": "code",
   "execution_count": 53,
   "metadata": {},
   "outputs": [],
   "source": [
    "final_df = joined_df.drop(columns=[f'News {i}' for i in range(1, 26)])"
   ]
  },
  {
   "cell_type": "markdown",
   "metadata": {},
   "source": [
    "#### I will exclusively be utilizing open data at the moment as I have opted to forecast the opening price of the next day based on historical data"
   ]
  },
  {
   "cell_type": "code",
   "execution_count": 54,
   "metadata": {},
   "outputs": [],
   "source": [
    "final_df = final_df[['Open'] + [f'Open Minus {i}' for i in range(1, 6)]]"
   ]
  },
  {
   "cell_type": "code",
   "execution_count": 55,
   "metadata": {},
   "outputs": [
    {
     "data": {
      "text/html": [
       "<div>\n",
       "<style scoped>\n",
       "    .dataframe tbody tr th:only-of-type {\n",
       "        vertical-align: middle;\n",
       "    }\n",
       "\n",
       "    .dataframe tbody tr th {\n",
       "        vertical-align: top;\n",
       "    }\n",
       "\n",
       "    .dataframe thead th {\n",
       "        text-align: right;\n",
       "    }\n",
       "</style>\n",
       "<table border=\"1\" class=\"dataframe\">\n",
       "  <thead>\n",
       "    <tr style=\"text-align: right;\">\n",
       "      <th></th>\n",
       "      <th>Open</th>\n",
       "      <th>Open Minus 1</th>\n",
       "      <th>Open Minus 2</th>\n",
       "      <th>Open Minus 3</th>\n",
       "      <th>Open Minus 4</th>\n",
       "      <th>Open Minus 5</th>\n",
       "    </tr>\n",
       "    <tr>\n",
       "      <th>Date</th>\n",
       "      <th></th>\n",
       "      <th></th>\n",
       "      <th></th>\n",
       "      <th></th>\n",
       "      <th></th>\n",
       "      <th></th>\n",
       "    </tr>\n",
       "  </thead>\n",
       "  <tbody>\n",
       "    <tr>\n",
       "      <th>2008-08-15</th>\n",
       "      <td>11611.209961</td>\n",
       "      <td>11532.070312</td>\n",
       "      <td>11632.809570</td>\n",
       "      <td>11781.700195</td>\n",
       "      <td>11729.669922</td>\n",
       "      <td>11432.089844</td>\n",
       "    </tr>\n",
       "    <tr>\n",
       "      <th>2008-08-18</th>\n",
       "      <td>11659.650391</td>\n",
       "      <td>11611.209961</td>\n",
       "      <td>11532.070312</td>\n",
       "      <td>11632.809570</td>\n",
       "      <td>11781.700195</td>\n",
       "      <td>11729.669922</td>\n",
       "    </tr>\n",
       "  </tbody>\n",
       "</table>\n",
       "</div>"
      ],
      "text/plain": [
       "                    Open  Open Minus 1  Open Minus 2  Open Minus 3  \\\n",
       "Date                                                                 \n",
       "2008-08-15  11611.209961  11532.070312  11632.809570  11781.700195   \n",
       "2008-08-18  11659.650391  11611.209961  11532.070312  11632.809570   \n",
       "\n",
       "            Open Minus 4  Open Minus 5  \n",
       "Date                                    \n",
       "2008-08-15  11729.669922  11432.089844  \n",
       "2008-08-18  11781.700195  11729.669922  "
      ]
     },
     "execution_count": 55,
     "metadata": {},
     "output_type": "execute_result"
    }
   ],
   "source": [
    "final_df.head(2)"
   ]
  },
  {
   "cell_type": "markdown",
   "metadata": {},
   "source": [
    "# Training and Testing Model (XGBoost)"
   ]
  },
  {
   "cell_type": "markdown",
   "metadata": {},
   "source": [
    "## Split data"
   ]
  },
  {
   "cell_type": "code",
   "execution_count": 56,
   "metadata": {},
   "outputs": [],
   "source": [
    "X_train, X_test, y_train, y_test = train_test_split(final_df.drop(columns=['Open']), final_df['Open'], test_size=0.2, random_state=42)"
   ]
  },
  {
   "cell_type": "markdown",
   "metadata": {},
   "source": [
    "## Initialize Grid Search Fine Tuning"
   ]
  },
  {
   "cell_type": "code",
   "execution_count": 57,
   "metadata": {},
   "outputs": [],
   "source": [
    "cv = KFold(n_splits=5, shuffle=True, random_state=42)"
   ]
  },
  {
   "cell_type": "code",
   "execution_count": 58,
   "metadata": {},
   "outputs": [],
   "source": [
    "params = {\n",
    "    'n_estimators': [100, 200, 300, 400, 500],\n",
    "    'max_depth': [2, 3, 4, 5, 6, 7, 8],\n",
    "    'learning_rate': [0.01, 0.05, 0.1, 0.2, 0.3]\n",
    "}"
   ]
  },
  {
   "cell_type": "code",
   "execution_count": 59,
   "metadata": {},
   "outputs": [],
   "source": [
    "grid = GridSearchCV(XGBRegressor(), params, cv=cv, n_jobs=20, verbose=1)"
   ]
  },
  {
   "cell_type": "markdown",
   "metadata": {},
   "source": [
    "## Train Model"
   ]
  },
  {
   "cell_type": "code",
   "execution_count": 60,
   "metadata": {},
   "outputs": [
    {
     "name": "stdout",
     "output_type": "stream",
     "text": [
      "Fitting 5 folds for each of 175 candidates, totalling 875 fits\n"
     ]
    },
    {
     "data": {
      "text/html": [
       "<style>#sk-container-id-1 {color: black;background-color: white;}#sk-container-id-1 pre{padding: 0;}#sk-container-id-1 div.sk-toggleable {background-color: white;}#sk-container-id-1 label.sk-toggleable__label {cursor: pointer;display: block;width: 100%;margin-bottom: 0;padding: 0.3em;box-sizing: border-box;text-align: center;}#sk-container-id-1 label.sk-toggleable__label-arrow:before {content: \"▸\";float: left;margin-right: 0.25em;color: #696969;}#sk-container-id-1 label.sk-toggleable__label-arrow:hover:before {color: black;}#sk-container-id-1 div.sk-estimator:hover label.sk-toggleable__label-arrow:before {color: black;}#sk-container-id-1 div.sk-toggleable__content {max-height: 0;max-width: 0;overflow: hidden;text-align: left;background-color: #f0f8ff;}#sk-container-id-1 div.sk-toggleable__content pre {margin: 0.2em;color: black;border-radius: 0.25em;background-color: #f0f8ff;}#sk-container-id-1 input.sk-toggleable__control:checked~div.sk-toggleable__content {max-height: 200px;max-width: 100%;overflow: auto;}#sk-container-id-1 input.sk-toggleable__control:checked~label.sk-toggleable__label-arrow:before {content: \"▾\";}#sk-container-id-1 div.sk-estimator input.sk-toggleable__control:checked~label.sk-toggleable__label {background-color: #d4ebff;}#sk-container-id-1 div.sk-label input.sk-toggleable__control:checked~label.sk-toggleable__label {background-color: #d4ebff;}#sk-container-id-1 input.sk-hidden--visually {border: 0;clip: rect(1px 1px 1px 1px);clip: rect(1px, 1px, 1px, 1px);height: 1px;margin: -1px;overflow: hidden;padding: 0;position: absolute;width: 1px;}#sk-container-id-1 div.sk-estimator {font-family: monospace;background-color: #f0f8ff;border: 1px dotted black;border-radius: 0.25em;box-sizing: border-box;margin-bottom: 0.5em;}#sk-container-id-1 div.sk-estimator:hover {background-color: #d4ebff;}#sk-container-id-1 div.sk-parallel-item::after {content: \"\";width: 100%;border-bottom: 1px solid gray;flex-grow: 1;}#sk-container-id-1 div.sk-label:hover label.sk-toggleable__label {background-color: #d4ebff;}#sk-container-id-1 div.sk-serial::before {content: \"\";position: absolute;border-left: 1px solid gray;box-sizing: border-box;top: 0;bottom: 0;left: 50%;z-index: 0;}#sk-container-id-1 div.sk-serial {display: flex;flex-direction: column;align-items: center;background-color: white;padding-right: 0.2em;padding-left: 0.2em;position: relative;}#sk-container-id-1 div.sk-item {position: relative;z-index: 1;}#sk-container-id-1 div.sk-parallel {display: flex;align-items: stretch;justify-content: center;background-color: white;position: relative;}#sk-container-id-1 div.sk-item::before, #sk-container-id-1 div.sk-parallel-item::before {content: \"\";position: absolute;border-left: 1px solid gray;box-sizing: border-box;top: 0;bottom: 0;left: 50%;z-index: -1;}#sk-container-id-1 div.sk-parallel-item {display: flex;flex-direction: column;z-index: 1;position: relative;background-color: white;}#sk-container-id-1 div.sk-parallel-item:first-child::after {align-self: flex-end;width: 50%;}#sk-container-id-1 div.sk-parallel-item:last-child::after {align-self: flex-start;width: 50%;}#sk-container-id-1 div.sk-parallel-item:only-child::after {width: 0;}#sk-container-id-1 div.sk-dashed-wrapped {border: 1px dashed gray;margin: 0 0.4em 0.5em 0.4em;box-sizing: border-box;padding-bottom: 0.4em;background-color: white;}#sk-container-id-1 div.sk-label label {font-family: monospace;font-weight: bold;display: inline-block;line-height: 1.2em;}#sk-container-id-1 div.sk-label-container {text-align: center;}#sk-container-id-1 div.sk-container {/* jupyter's `normalize.less` sets `[hidden] { display: none; }` but bootstrap.min.css set `[hidden] { display: none !important; }` so we also need the `!important` here to be able to override the default hidden behavior on the sphinx rendered scikit-learn.org. See: https://github.com/scikit-learn/scikit-learn/issues/21755 */display: inline-block !important;position: relative;}#sk-container-id-1 div.sk-text-repr-fallback {display: none;}</style><div id=\"sk-container-id-1\" class=\"sk-top-container\"><div class=\"sk-text-repr-fallback\"><pre>GridSearchCV(cv=KFold(n_splits=5, random_state=42, shuffle=True),\n",
       "             estimator=XGBRegressor(base_score=None, booster=None,\n",
       "                                    callbacks=None, colsample_bylevel=None,\n",
       "                                    colsample_bynode=None,\n",
       "                                    colsample_bytree=None, device=None,\n",
       "                                    early_stopping_rounds=None,\n",
       "                                    enable_categorical=False, eval_metric=None,\n",
       "                                    feature_types=None, gamma=None,\n",
       "                                    grow_policy=None, importance_type=None,\n",
       "                                    inte...\n",
       "                                    max_cat_to_onehot=None, max_delta_step=None,\n",
       "                                    max_depth=None, max_leaves=None,\n",
       "                                    min_child_weight=None, missing=nan,\n",
       "                                    monotone_constraints=None,\n",
       "                                    multi_strategy=None, n_estimators=None,\n",
       "                                    n_jobs=None, num_parallel_tree=None,\n",
       "                                    random_state=None, ...),\n",
       "             n_jobs=20,\n",
       "             param_grid={&#x27;learning_rate&#x27;: [0.01, 0.05, 0.1, 0.2, 0.3],\n",
       "                         &#x27;max_depth&#x27;: [2, 3, 4, 5, 6, 7, 8],\n",
       "                         &#x27;n_estimators&#x27;: [100, 200, 300, 400, 500]},\n",
       "             verbose=1)</pre><b>In a Jupyter environment, please rerun this cell to show the HTML representation or trust the notebook. <br />On GitHub, the HTML representation is unable to render, please try loading this page with nbviewer.org.</b></div><div class=\"sk-container\" hidden><div class=\"sk-item sk-dashed-wrapped\"><div class=\"sk-label-container\"><div class=\"sk-label sk-toggleable\"><input class=\"sk-toggleable__control sk-hidden--visually\" id=\"sk-estimator-id-1\" type=\"checkbox\" ><label for=\"sk-estimator-id-1\" class=\"sk-toggleable__label sk-toggleable__label-arrow\">GridSearchCV</label><div class=\"sk-toggleable__content\"><pre>GridSearchCV(cv=KFold(n_splits=5, random_state=42, shuffle=True),\n",
       "             estimator=XGBRegressor(base_score=None, booster=None,\n",
       "                                    callbacks=None, colsample_bylevel=None,\n",
       "                                    colsample_bynode=None,\n",
       "                                    colsample_bytree=None, device=None,\n",
       "                                    early_stopping_rounds=None,\n",
       "                                    enable_categorical=False, eval_metric=None,\n",
       "                                    feature_types=None, gamma=None,\n",
       "                                    grow_policy=None, importance_type=None,\n",
       "                                    inte...\n",
       "                                    max_cat_to_onehot=None, max_delta_step=None,\n",
       "                                    max_depth=None, max_leaves=None,\n",
       "                                    min_child_weight=None, missing=nan,\n",
       "                                    monotone_constraints=None,\n",
       "                                    multi_strategy=None, n_estimators=None,\n",
       "                                    n_jobs=None, num_parallel_tree=None,\n",
       "                                    random_state=None, ...),\n",
       "             n_jobs=20,\n",
       "             param_grid={&#x27;learning_rate&#x27;: [0.01, 0.05, 0.1, 0.2, 0.3],\n",
       "                         &#x27;max_depth&#x27;: [2, 3, 4, 5, 6, 7, 8],\n",
       "                         &#x27;n_estimators&#x27;: [100, 200, 300, 400, 500]},\n",
       "             verbose=1)</pre></div></div></div><div class=\"sk-parallel\"><div class=\"sk-parallel-item\"><div class=\"sk-item\"><div class=\"sk-label-container\"><div class=\"sk-label sk-toggleable\"><input class=\"sk-toggleable__control sk-hidden--visually\" id=\"sk-estimator-id-2\" type=\"checkbox\" ><label for=\"sk-estimator-id-2\" class=\"sk-toggleable__label sk-toggleable__label-arrow\">estimator: XGBRegressor</label><div class=\"sk-toggleable__content\"><pre>XGBRegressor(base_score=None, booster=None, callbacks=None,\n",
       "             colsample_bylevel=None, colsample_bynode=None,\n",
       "             colsample_bytree=None, device=None, early_stopping_rounds=None,\n",
       "             enable_categorical=False, eval_metric=None, feature_types=None,\n",
       "             gamma=None, grow_policy=None, importance_type=None,\n",
       "             interaction_constraints=None, learning_rate=None, max_bin=None,\n",
       "             max_cat_threshold=None, max_cat_to_onehot=None,\n",
       "             max_delta_step=None, max_depth=None, max_leaves=None,\n",
       "             min_child_weight=None, missing=nan, monotone_constraints=None,\n",
       "             multi_strategy=None, n_estimators=None, n_jobs=None,\n",
       "             num_parallel_tree=None, random_state=None, ...)</pre></div></div></div><div class=\"sk-serial\"><div class=\"sk-item\"><div class=\"sk-estimator sk-toggleable\"><input class=\"sk-toggleable__control sk-hidden--visually\" id=\"sk-estimator-id-3\" type=\"checkbox\" ><label for=\"sk-estimator-id-3\" class=\"sk-toggleable__label sk-toggleable__label-arrow\">XGBRegressor</label><div class=\"sk-toggleable__content\"><pre>XGBRegressor(base_score=None, booster=None, callbacks=None,\n",
       "             colsample_bylevel=None, colsample_bynode=None,\n",
       "             colsample_bytree=None, device=None, early_stopping_rounds=None,\n",
       "             enable_categorical=False, eval_metric=None, feature_types=None,\n",
       "             gamma=None, grow_policy=None, importance_type=None,\n",
       "             interaction_constraints=None, learning_rate=None, max_bin=None,\n",
       "             max_cat_threshold=None, max_cat_to_onehot=None,\n",
       "             max_delta_step=None, max_depth=None, max_leaves=None,\n",
       "             min_child_weight=None, missing=nan, monotone_constraints=None,\n",
       "             multi_strategy=None, n_estimators=None, n_jobs=None,\n",
       "             num_parallel_tree=None, random_state=None, ...)</pre></div></div></div></div></div></div></div></div></div></div>"
      ],
      "text/plain": [
       "GridSearchCV(cv=KFold(n_splits=5, random_state=42, shuffle=True),\n",
       "             estimator=XGBRegressor(base_score=None, booster=None,\n",
       "                                    callbacks=None, colsample_bylevel=None,\n",
       "                                    colsample_bynode=None,\n",
       "                                    colsample_bytree=None, device=None,\n",
       "                                    early_stopping_rounds=None,\n",
       "                                    enable_categorical=False, eval_metric=None,\n",
       "                                    feature_types=None, gamma=None,\n",
       "                                    grow_policy=None, importance_type=None,\n",
       "                                    inte...\n",
       "                                    max_cat_to_onehot=None, max_delta_step=None,\n",
       "                                    max_depth=None, max_leaves=None,\n",
       "                                    min_child_weight=None, missing=nan,\n",
       "                                    monotone_constraints=None,\n",
       "                                    multi_strategy=None, n_estimators=None,\n",
       "                                    n_jobs=None, num_parallel_tree=None,\n",
       "                                    random_state=None, ...),\n",
       "             n_jobs=20,\n",
       "             param_grid={'learning_rate': [0.01, 0.05, 0.1, 0.2, 0.3],\n",
       "                         'max_depth': [2, 3, 4, 5, 6, 7, 8],\n",
       "                         'n_estimators': [100, 200, 300, 400, 500]},\n",
       "             verbose=1)"
      ]
     },
     "execution_count": 60,
     "metadata": {},
     "output_type": "execute_result"
    }
   ],
   "source": [
    "grid.fit(X_train, y_train)"
   ]
  },
  {
   "cell_type": "code",
   "execution_count": 61,
   "metadata": {},
   "outputs": [
    {
     "name": "stdout",
     "output_type": "stream",
     "text": [
      "{'learning_rate': 0.05, 'max_depth': 3, 'n_estimators': 200}\n"
     ]
    }
   ],
   "source": [
    "print(grid.best_params_)"
   ]
  },
  {
   "cell_type": "markdown",
   "metadata": {},
   "source": [
    "## Test Model"
   ]
  },
  {
   "cell_type": "code",
   "execution_count": 62,
   "metadata": {},
   "outputs": [],
   "source": [
    "y_pred = grid.predict(X_test)"
   ]
  },
  {
   "cell_type": "code",
   "execution_count": 63,
   "metadata": {},
   "outputs": [
    {
     "name": "stdout",
     "output_type": "stream",
     "text": [
      "MSE: 19841.393605316458\n",
      "MAE: 103.37094125763537\n",
      "R2: 0.9980268953009965\n"
     ]
    }
   ],
   "source": [
    "print(f'MSE: {mean_squared_error(y_test, y_pred)}')\n",
    "print(f'MAE: {mean_absolute_error(y_test, y_pred)}')\n",
    "print(f'R2: {r2_score(y_test, y_pred)}')"
   ]
  },
  {
   "cell_type": "markdown",
   "metadata": {},
   "source": [
    "# Training and Testing Model (Multimodal Neural Network)"
   ]
  },
  {
   "cell_type": "markdown",
   "metadata": {},
   "source": [
    "## Split Data (Numerical and Textual)"
   ]
  },
  {
   "cell_type": "code",
   "execution_count": 76,
   "metadata": {},
   "outputs": [
    {
     "data": {
      "text/html": [
       "<div>\n",
       "<style scoped>\n",
       "    .dataframe tbody tr th:only-of-type {\n",
       "        vertical-align: middle;\n",
       "    }\n",
       "\n",
       "    .dataframe tbody tr th {\n",
       "        vertical-align: top;\n",
       "    }\n",
       "\n",
       "    .dataframe thead th {\n",
       "        text-align: right;\n",
       "    }\n",
       "</style>\n",
       "<table border=\"1\" class=\"dataframe\">\n",
       "  <thead>\n",
       "    <tr style=\"text-align: right;\">\n",
       "      <th></th>\n",
       "      <th>Open</th>\n",
       "      <th>Open Minus 1</th>\n",
       "      <th>Open Minus 2</th>\n",
       "      <th>Open Minus 3</th>\n",
       "      <th>Open Minus 4</th>\n",
       "      <th>Open Minus 5</th>\n",
       "      <th>News 1</th>\n",
       "      <th>News 2</th>\n",
       "      <th>News 3</th>\n",
       "      <th>News 4</th>\n",
       "      <th>...</th>\n",
       "      <th>News 16</th>\n",
       "      <th>News 17</th>\n",
       "      <th>News 18</th>\n",
       "      <th>News 19</th>\n",
       "      <th>News 20</th>\n",
       "      <th>News 21</th>\n",
       "      <th>News 22</th>\n",
       "      <th>News 23</th>\n",
       "      <th>News 24</th>\n",
       "      <th>News 25</th>\n",
       "    </tr>\n",
       "    <tr>\n",
       "      <th>Date</th>\n",
       "      <th></th>\n",
       "      <th></th>\n",
       "      <th></th>\n",
       "      <th></th>\n",
       "      <th></th>\n",
       "      <th></th>\n",
       "      <th></th>\n",
       "      <th></th>\n",
       "      <th></th>\n",
       "      <th></th>\n",
       "      <th></th>\n",
       "      <th></th>\n",
       "      <th></th>\n",
       "      <th></th>\n",
       "      <th></th>\n",
       "      <th></th>\n",
       "      <th></th>\n",
       "      <th></th>\n",
       "      <th></th>\n",
       "      <th></th>\n",
       "      <th></th>\n",
       "    </tr>\n",
       "  </thead>\n",
       "  <tbody>\n",
       "    <tr>\n",
       "      <th>2008-08-15</th>\n",
       "      <td>11611.209961</td>\n",
       "      <td>11532.070312</td>\n",
       "      <td>11632.80957</td>\n",
       "      <td>11781.700195</td>\n",
       "      <td>11729.669922</td>\n",
       "      <td>11432.089844</td>\n",
       "      <td>b\"Mom of missing gay man: Too bad he's not a 2...</td>\n",
       "      <td>b\"Russia: U.S. Poland Missile Deal Won't Go 'U...</td>\n",
       "      <td>b\"The government has been accused of creating ...</td>\n",
       "      <td>b'The Italian government has lashed out at an ...</td>\n",
       "      <td>...</td>\n",
       "      <td>b'Why are redditors generally supportive of Ru...</td>\n",
       "      <td>b'Johann Hari: We need to stop being such cowa...</td>\n",
       "      <td>b'US officials have said that their military p...</td>\n",
       "      <td>b'Israel clears troops who killed Reuters came...</td>\n",
       "      <td>b'Unenforceable laws encourage cops to escalat...</td>\n",
       "      <td>b'What Chinese pollution really looks like'</td>\n",
       "      <td>b'Hacker Kidnaps and Tortures Informant, Posts...</td>\n",
       "      <td>b'Bush Tells Putin: This Aggression Will Not S...</td>\n",
       "      <td>b'Georgia is all about the oil pipelines'</td>\n",
       "      <td>b'Rivals say they plan to remove Georgian pres...</td>\n",
       "    </tr>\n",
       "  </tbody>\n",
       "</table>\n",
       "<p>1 rows × 31 columns</p>\n",
       "</div>"
      ],
      "text/plain": [
       "                    Open  Open Minus 1  Open Minus 2  Open Minus 3  \\\n",
       "Date                                                                 \n",
       "2008-08-15  11611.209961  11532.070312   11632.80957  11781.700195   \n",
       "\n",
       "            Open Minus 4  Open Minus 5  \\\n",
       "Date                                     \n",
       "2008-08-15  11729.669922  11432.089844   \n",
       "\n",
       "                                                       News 1  \\\n",
       "Date                                                            \n",
       "2008-08-15  b\"Mom of missing gay man: Too bad he's not a 2...   \n",
       "\n",
       "                                                       News 2  \\\n",
       "Date                                                            \n",
       "2008-08-15  b\"Russia: U.S. Poland Missile Deal Won't Go 'U...   \n",
       "\n",
       "                                                       News 3  \\\n",
       "Date                                                            \n",
       "2008-08-15  b\"The government has been accused of creating ...   \n",
       "\n",
       "                                                       News 4  ...  \\\n",
       "Date                                                           ...   \n",
       "2008-08-15  b'The Italian government has lashed out at an ...  ...   \n",
       "\n",
       "                                                      News 16  \\\n",
       "Date                                                            \n",
       "2008-08-15  b'Why are redditors generally supportive of Ru...   \n",
       "\n",
       "                                                      News 17  \\\n",
       "Date                                                            \n",
       "2008-08-15  b'Johann Hari: We need to stop being such cowa...   \n",
       "\n",
       "                                                      News 18  \\\n",
       "Date                                                            \n",
       "2008-08-15  b'US officials have said that their military p...   \n",
       "\n",
       "                                                      News 19  \\\n",
       "Date                                                            \n",
       "2008-08-15  b'Israel clears troops who killed Reuters came...   \n",
       "\n",
       "                                                      News 20  \\\n",
       "Date                                                            \n",
       "2008-08-15  b'Unenforceable laws encourage cops to escalat...   \n",
       "\n",
       "                                                News 21  \\\n",
       "Date                                                      \n",
       "2008-08-15  b'What Chinese pollution really looks like'   \n",
       "\n",
       "                                                      News 22  \\\n",
       "Date                                                            \n",
       "2008-08-15  b'Hacker Kidnaps and Tortures Informant, Posts...   \n",
       "\n",
       "                                                      News 23  \\\n",
       "Date                                                            \n",
       "2008-08-15  b'Bush Tells Putin: This Aggression Will Not S...   \n",
       "\n",
       "                                              News 24  \\\n",
       "Date                                                    \n",
       "2008-08-15  b'Georgia is all about the oil pipelines'   \n",
       "\n",
       "                                                      News 25  \n",
       "Date                                                           \n",
       "2008-08-15  b'Rivals say they plan to remove Georgian pres...  \n",
       "\n",
       "[1 rows x 31 columns]"
      ]
     },
     "execution_count": 76,
     "metadata": {},
     "output_type": "execute_result"
    }
   ],
   "source": [
    "multimodal_df = djia_df[[column for column in djia_df.columns if 'Open' in column]].join(reddit_joined_df.drop('join_news', axis=1), how='inner')\n",
    "multimodal_df.sort_index(inplace=True)\n",
    "\n",
    "multimodal_df.head(1)"
   ]
  },
  {
   "cell_type": "code",
   "execution_count": 147,
   "metadata": {},
   "outputs": [],
   "source": [
    "numerical_df = multimodal_df[[column for column in multimodal_df.columns if 'Open' in column]]\n",
    "text_df = multimodal_df[[column for column in multimodal_df.columns if 'News 1' == column]]"
   ]
  },
  {
   "cell_type": "code",
   "execution_count": 148,
   "metadata": {},
   "outputs": [],
   "source": [
    "X, y = numerical_df.drop('Open', axis=1), numerical_df['Open']"
   ]
  },
  {
   "cell_type": "code",
   "execution_count": 158,
   "metadata": {},
   "outputs": [],
   "source": [
    "X_train_num, X_test_num, y_train, y_test = train_test_split(X, y, test_size=0.2, shuffle=False)\n",
    "X_train_text, X_test_text, _, _ = train_test_split(text_df['News 1'], y, test_size=0.2, shuffle=False)"
   ]
  },
  {
   "cell_type": "markdown",
   "metadata": {},
   "source": [
    "### Preprocessing"
   ]
  },
  {
   "cell_type": "code",
   "execution_count": 159,
   "metadata": {},
   "outputs": [],
   "source": [
    "X_train_num = X_train_num.to_numpy()\n",
    "X_test_num = X_test_num.to_numpy()"
   ]
  },
  {
   "cell_type": "code",
   "execution_count": 160,
   "metadata": {},
   "outputs": [
    {
     "data": {
      "text/plain": [
       "(1584, 5, 1)"
      ]
     },
     "execution_count": 160,
     "metadata": {},
     "output_type": "execute_result"
    }
   ],
   "source": [
    "X_train_num = X_train_num.reshape(-1, 5, len(X_train_num[0]) // 5)\n",
    "X_train_num.shape"
   ]
  },
  {
   "cell_type": "code",
   "execution_count": 161,
   "metadata": {},
   "outputs": [
    {
     "data": {
      "text/plain": [
       "(397, 5, 1)"
      ]
     },
     "execution_count": 161,
     "metadata": {},
     "output_type": "execute_result"
    }
   ],
   "source": [
    "X_test_num = X_test_num.reshape(-1, 5, len(X_test_num[0]) // 5)\n",
    "X_test_num.shape"
   ]
  },
  {
   "cell_type": "code",
   "execution_count": 162,
   "metadata": {},
   "outputs": [],
   "source": [
    "tokenizer = Tokenizer(1000)\n",
    "tokenizer.fit_on_texts(X_train_text.values)\n",
    "X_train_text = tokenizer.texts_to_sequences(X_train_text.values)\n",
    "X_test_text = tokenizer.texts_to_sequences(X_test_text.values)\n",
    "X_train_text = pad_sequences(X_train_text, 64)\n",
    "X_test_text = pad_sequences(X_test_text, 64)"
   ]
  },
  {
   "cell_type": "markdown",
   "metadata": {},
   "source": [
    "## Model Architecture"
   ]
  },
  {
   "cell_type": "markdown",
   "metadata": {},
   "source": [
    "### Numerical part"
   ]
  },
  {
   "cell_type": "code",
   "execution_count": 136,
   "metadata": {},
   "outputs": [],
   "source": [
    "numerical_input = Input(shape=(X_train_num.shape[1], X_train_num.shape[2]), name='numerical_input')\n",
    "numerical_output = LSTM(64, activation='relu', dropout=0.2, recurrent_dropout=0.2)(numerical_input)"
   ]
  },
  {
   "cell_type": "markdown",
   "metadata": {},
   "source": [
    "### Textual Part"
   ]
  },
  {
   "cell_type": "code",
   "execution_count": 137,
   "metadata": {},
   "outputs": [],
   "source": [
    "max_words = 1000"
   ]
  },
  {
   "cell_type": "code",
   "execution_count": 138,
   "metadata": {},
   "outputs": [],
   "source": [
    "textual_input = Input(shape=(64,), name='textual_input')\n",
    "textual_output = Embedding(input_dim=max_words, output_dim=32, input_length=64)(textual_input)\n",
    "textual_output = LSTM(64, activation='relu', dropout=0.2, recurrent_dropout=0.2)(textual_output)"
   ]
  },
  {
   "cell_type": "markdown",
   "metadata": {},
   "source": [
    "### Merge"
   ]
  },
  {
   "cell_type": "code",
   "execution_count": 139,
   "metadata": {},
   "outputs": [],
   "source": [
    "merged_output = concatenate([numerical_output, textual_output])\n",
    "merged_output = Dense(32, activation='relu')(merged_output)\n",
    "output = Dense(1, activation='linear', name='output')(merged_output)"
   ]
  },
  {
   "cell_type": "code",
   "execution_count": 140,
   "metadata": {},
   "outputs": [],
   "source": [
    "model = Model(inputs=[numerical_input, textual_input], outputs=output)\n",
    "model.compile(optimizer=keras.optimizers.Adam(), loss=keras.losses.MeanSquaredError(), metrics=[keras.metrics.MeanAbsoluteError()])"
   ]
  },
  {
   "cell_type": "markdown",
   "metadata": {},
   "source": [
    "## Train Model"
   ]
  },
  {
   "cell_type": "code",
   "execution_count": 168,
   "metadata": {},
   "outputs": [
    {
     "name": "stdout",
     "output_type": "stream",
     "text": [
      "Epoch 1/10\n"
     ]
    },
    {
     "name": "stdout",
     "output_type": "stream",
     "text": [
      "80/80 [==============================] - 4s 50ms/step - loss: 1895678.7500 - mean_absolute_error: 1002.5494 - val_loss: 8936471.0000 - val_mean_absolute_error: 2981.8423\n",
      "Epoch 2/10\n",
      "80/80 [==============================] - 4s 47ms/step - loss: 1788336.7500 - mean_absolute_error: 952.3255 - val_loss: 12303477.0000 - val_mean_absolute_error: 3500.7954\n",
      "Epoch 3/10\n",
      "80/80 [==============================] - 5s 59ms/step - loss: 1672342.6250 - mean_absolute_error: 930.6202 - val_loss: 10606792.0000 - val_mean_absolute_error: 3250.0825\n",
      "Epoch 4/10\n",
      "80/80 [==============================] - 4s 50ms/step - loss: 1643913.2500 - mean_absolute_error: 937.8161 - val_loss: 5244700.5000 - val_mean_absolute_error: 2282.4487\n",
      "Epoch 5/10\n",
      "80/80 [==============================] - 5s 65ms/step - loss: 1388304.5000 - mean_absolute_error: 865.0419 - val_loss: 9586131.0000 - val_mean_absolute_error: 3084.6133\n",
      "Epoch 6/10\n",
      "80/80 [==============================] - 5s 69ms/step - loss: 1483510.8750 - mean_absolute_error: 862.2139 - val_loss: 10239402.0000 - val_mean_absolute_error: 3192.4026\n",
      "Epoch 7/10\n",
      "80/80 [==============================] - 5s 60ms/step - loss: 1235267.1250 - mean_absolute_error: 816.3839 - val_loss: 7921357.0000 - val_mean_absolute_error: 2807.4480\n",
      "Epoch 8/10\n",
      "80/80 [==============================] - 5s 59ms/step - loss: 1443952.0000 - mean_absolute_error: 850.0067 - val_loss: 7516467.5000 - val_mean_absolute_error: 2733.9250\n",
      "Epoch 9/10\n",
      "80/80 [==============================] - 4s 48ms/step - loss: 1336927.1250 - mean_absolute_error: 836.1658 - val_loss: 5987826.5000 - val_mean_absolute_error: 2438.8909\n",
      "Epoch 10/10\n",
      "80/80 [==============================] - 3s 44ms/step - loss: 1384887.0000 - mean_absolute_error: 849.5469 - val_loss: 16734928.0000 - val_mean_absolute_error: 4083.7603\n"
     ]
    }
   ],
   "source": [
    "history = model.fit([X_train_num, X_train_text], y_train, validation_split=0.2, shuffle=False, batch_size=16, epochs=10)"
   ]
  },
  {
   "cell_type": "code",
   "execution_count": 169,
   "metadata": {},
   "outputs": [
    {
     "data": {
      "image/png": "[encoded data removed]",
      "text/plain": [
       "<Figure size 640x480 with 1 Axes>"
      ]
     },
     "metadata": {},
     "output_type": "display_data"
    }
   ],
   "source": [
    "plt.plot(history.history['loss'], label='loss')\n",
    "plt.plot(history.history['val_loss'], label='val_loss')\n",
    "\n",
    "plt.legend()\n",
    "plt.show()"
   ]
  },
  {
   "cell_type": "markdown",
   "metadata": {},
   "source": [
    "## Test Model"
   ]
  },
  {
   "cell_type": "code",
   "execution_count": 171,
   "metadata": {},
   "outputs": [
    {
     "name": "stdout",
     "output_type": "stream",
     "text": [
      "13/13 [==============================] - 1s 9ms/step\n"
     ]
    }
   ],
   "source": [
    "y_pred = model.predict([X_test_num, X_test_text])"
   ]
  },
  {
   "cell_type": "code",
   "execution_count": 174,
   "metadata": {},
   "outputs": [],
   "source": [
    "y_pred = y_pred.reshape(-1)"
   ]
  },
  {
   "cell_type": "code",
   "execution_count": 177,
   "metadata": {},
   "outputs": [
    {
     "data": {
      "image/png": "[encoded data removed]",
      "text/plain": [
       "<Figure size 640x480 with 1 Axes>"
      ]
     },
     "metadata": {},
     "output_type": "display_data"
    }
   ],
   "source": [
    "plt.plot(y_test, label = 'test')\n",
    "plt.plot(y_pred, label = 'predictions')\n",
    "\n",
    "plt.legend()\n",
    "plt.show()"
   ]
  }
 ],
 "metadata": {
  "kernelspec": {
   "display_name": "base",
   "language": "python",
   "name": "python3"
  },
  "language_info": {
   "codemirror_mode": {
    "name": "ipython",
    "version": 3
   },
   "file_extension": ".py",
   "mimetype": "text/x-python",
   "name": "python",
   "nbconvert_exporter": "python",
   "pygments_lexer": "ipython3",
   "version": "3.10.9"
  }
 },
 "nbformat": 4,
 "nbformat_minor": 2
}
