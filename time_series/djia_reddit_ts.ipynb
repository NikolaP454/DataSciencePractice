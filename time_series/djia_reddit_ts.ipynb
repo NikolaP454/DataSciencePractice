{
 "cells": [
  {
   "cell_type": "markdown",
   "metadata": {},
   "source": [
    "# Import Dependencies"
   ]
  },
  {
   "cell_type": "code",
   "execution_count": 162,
   "metadata": {},
   "outputs": [],
   "source": [
    "import os\n",
    "import pandas as pd\n",
    "import numpy as np\n",
    "\n",
    "from sklearn.model_selection import train_test_split, GridSearchCV, KFold, cross_val_score\n",
    "from sklearn.preprocessing import StandardScaler\n",
    "from sklearn.metrics import mean_squared_error, r2_score, mean_absolute_error\n",
    "from xgboost import XGBRegressor\n",
    "\n",
    "from transformers import pipeline\n",
    "\n",
    "import seaborn as sns\n",
    "import matplotlib.pyplot as plt "
   ]
  },
  {
   "cell_type": "markdown",
   "metadata": {},
   "source": [
    "# Data Prep"
   ]
  },
  {
   "cell_type": "markdown",
   "metadata": {},
   "source": [
    "## Import data"
   ]
  },
  {
   "cell_type": "code",
   "execution_count": 93,
   "metadata": {},
   "outputs": [],
   "source": [
    "djia_df = pd.read_csv('../data/DJIA_table.csv', index_col='Date')\n",
    "reddit_df = pd.read_csv('../data/RedditNews.csv')"
   ]
  },
  {
   "cell_type": "code",
   "execution_count": 94,
   "metadata": {},
   "outputs": [
    {
     "data": {
      "text/html": [
       "<div>\n",
       "<style scoped>\n",
       "    .dataframe tbody tr th:only-of-type {\n",
       "        vertical-align: middle;\n",
       "    }\n",
       "\n",
       "    .dataframe tbody tr th {\n",
       "        vertical-align: top;\n",
       "    }\n",
       "\n",
       "    .dataframe thead th {\n",
       "        text-align: right;\n",
       "    }\n",
       "</style>\n",
       "<table border=\"1\" class=\"dataframe\">\n",
       "  <thead>\n",
       "    <tr style=\"text-align: right;\">\n",
       "      <th></th>\n",
       "      <th>Open</th>\n",
       "      <th>High</th>\n",
       "      <th>Low</th>\n",
       "      <th>Close</th>\n",
       "      <th>Volume</th>\n",
       "      <th>Adj Close</th>\n",
       "    </tr>\n",
       "    <tr>\n",
       "      <th>Date</th>\n",
       "      <th></th>\n",
       "      <th></th>\n",
       "      <th></th>\n",
       "      <th></th>\n",
       "      <th></th>\n",
       "      <th></th>\n",
       "    </tr>\n",
       "  </thead>\n",
       "  <tbody>\n",
       "    <tr>\n",
       "      <th>2016-07-01</th>\n",
       "      <td>17924.240234</td>\n",
       "      <td>18002.380859</td>\n",
       "      <td>17916.910156</td>\n",
       "      <td>17949.369141</td>\n",
       "      <td>82160000</td>\n",
       "      <td>17949.369141</td>\n",
       "    </tr>\n",
       "    <tr>\n",
       "      <th>2016-06-30</th>\n",
       "      <td>17712.759766</td>\n",
       "      <td>17930.609375</td>\n",
       "      <td>17711.800781</td>\n",
       "      <td>17929.990234</td>\n",
       "      <td>133030000</td>\n",
       "      <td>17929.990234</td>\n",
       "    </tr>\n",
       "    <tr>\n",
       "      <th>2016-06-29</th>\n",
       "      <td>17456.019531</td>\n",
       "      <td>17704.509766</td>\n",
       "      <td>17456.019531</td>\n",
       "      <td>17694.679688</td>\n",
       "      <td>106380000</td>\n",
       "      <td>17694.679688</td>\n",
       "    </tr>\n",
       "    <tr>\n",
       "      <th>2016-06-28</th>\n",
       "      <td>17190.509766</td>\n",
       "      <td>17409.720703</td>\n",
       "      <td>17190.509766</td>\n",
       "      <td>17409.720703</td>\n",
       "      <td>112190000</td>\n",
       "      <td>17409.720703</td>\n",
       "    </tr>\n",
       "    <tr>\n",
       "      <th>2016-06-27</th>\n",
       "      <td>17355.210938</td>\n",
       "      <td>17355.210938</td>\n",
       "      <td>17063.080078</td>\n",
       "      <td>17140.240234</td>\n",
       "      <td>138740000</td>\n",
       "      <td>17140.240234</td>\n",
       "    </tr>\n",
       "  </tbody>\n",
       "</table>\n",
       "</div>"
      ],
      "text/plain": [
       "                    Open          High           Low         Close     Volume  \\\n",
       "Date                                                                            \n",
       "2016-07-01  17924.240234  18002.380859  17916.910156  17949.369141   82160000   \n",
       "2016-06-30  17712.759766  17930.609375  17711.800781  17929.990234  133030000   \n",
       "2016-06-29  17456.019531  17704.509766  17456.019531  17694.679688  106380000   \n",
       "2016-06-28  17190.509766  17409.720703  17190.509766  17409.720703  112190000   \n",
       "2016-06-27  17355.210938  17355.210938  17063.080078  17140.240234  138740000   \n",
       "\n",
       "               Adj Close  \n",
       "Date                      \n",
       "2016-07-01  17949.369141  \n",
       "2016-06-30  17929.990234  \n",
       "2016-06-29  17694.679688  \n",
       "2016-06-28  17409.720703  \n",
       "2016-06-27  17140.240234  "
      ]
     },
     "execution_count": 94,
     "metadata": {},
     "output_type": "execute_result"
    }
   ],
   "source": [
    "djia_df.head(5)"
   ]
  },
  {
   "cell_type": "code",
   "execution_count": 95,
   "metadata": {},
   "outputs": [
    {
     "data": {
      "text/html": [
       "<div>\n",
       "<style scoped>\n",
       "    .dataframe tbody tr th:only-of-type {\n",
       "        vertical-align: middle;\n",
       "    }\n",
       "\n",
       "    .dataframe tbody tr th {\n",
       "        vertical-align: top;\n",
       "    }\n",
       "\n",
       "    .dataframe thead th {\n",
       "        text-align: right;\n",
       "    }\n",
       "</style>\n",
       "<table border=\"1\" class=\"dataframe\">\n",
       "  <thead>\n",
       "    <tr style=\"text-align: right;\">\n",
       "      <th></th>\n",
       "      <th>Date</th>\n",
       "      <th>News</th>\n",
       "    </tr>\n",
       "  </thead>\n",
       "  <tbody>\n",
       "    <tr>\n",
       "      <th>0</th>\n",
       "      <td>2016-07-01</td>\n",
       "      <td>A 117-year-old woman in Mexico City finally re...</td>\n",
       "    </tr>\n",
       "    <tr>\n",
       "      <th>1</th>\n",
       "      <td>2016-07-01</td>\n",
       "      <td>IMF chief backs Athens as permanent Olympic host</td>\n",
       "    </tr>\n",
       "    <tr>\n",
       "      <th>2</th>\n",
       "      <td>2016-07-01</td>\n",
       "      <td>The president of France says if Brexit won, so...</td>\n",
       "    </tr>\n",
       "    <tr>\n",
       "      <th>3</th>\n",
       "      <td>2016-07-01</td>\n",
       "      <td>British Man Who Must Give Police 24 Hours' Not...</td>\n",
       "    </tr>\n",
       "    <tr>\n",
       "      <th>4</th>\n",
       "      <td>2016-07-01</td>\n",
       "      <td>100+ Nobel laureates urge Greenpeace to stop o...</td>\n",
       "    </tr>\n",
       "    <tr>\n",
       "      <th>...</th>\n",
       "      <td>...</td>\n",
       "      <td>...</td>\n",
       "    </tr>\n",
       "    <tr>\n",
       "      <th>73603</th>\n",
       "      <td>2008-06-08</td>\n",
       "      <td>b'Man goes berzerk in Akihabara and stabs ever...</td>\n",
       "    </tr>\n",
       "    <tr>\n",
       "      <th>73604</th>\n",
       "      <td>2008-06-08</td>\n",
       "      <td>b'Threat of world AIDS pandemic among heterose...</td>\n",
       "    </tr>\n",
       "    <tr>\n",
       "      <th>73605</th>\n",
       "      <td>2008-06-08</td>\n",
       "      <td>b'Angst in Ankara: Turkey Steers into a Danger...</td>\n",
       "    </tr>\n",
       "    <tr>\n",
       "      <th>73606</th>\n",
       "      <td>2008-06-08</td>\n",
       "      <td>b\"UK: Identity cards 'could be used to spy on ...</td>\n",
       "    </tr>\n",
       "    <tr>\n",
       "      <th>73607</th>\n",
       "      <td>2008-06-08</td>\n",
       "      <td>b'Marriage, they said, was reduced to the stat...</td>\n",
       "    </tr>\n",
       "  </tbody>\n",
       "</table>\n",
       "<p>73608 rows × 2 columns</p>\n",
       "</div>"
      ],
      "text/plain": [
       "             Date                                               News\n",
       "0      2016-07-01  A 117-year-old woman in Mexico City finally re...\n",
       "1      2016-07-01   IMF chief backs Athens as permanent Olympic host\n",
       "2      2016-07-01  The president of France says if Brexit won, so...\n",
       "3      2016-07-01  British Man Who Must Give Police 24 Hours' Not...\n",
       "4      2016-07-01  100+ Nobel laureates urge Greenpeace to stop o...\n",
       "...           ...                                                ...\n",
       "73603  2008-06-08  b'Man goes berzerk in Akihabara and stabs ever...\n",
       "73604  2008-06-08  b'Threat of world AIDS pandemic among heterose...\n",
       "73605  2008-06-08  b'Angst in Ankara: Turkey Steers into a Danger...\n",
       "73606  2008-06-08  b\"UK: Identity cards 'could be used to spy on ...\n",
       "73607  2008-06-08  b'Marriage, they said, was reduced to the stat...\n",
       "\n",
       "[73608 rows x 2 columns]"
      ]
     },
     "execution_count": 95,
     "metadata": {},
     "output_type": "execute_result"
    }
   ],
   "source": [
    "reddit_df"
   ]
  },
  {
   "cell_type": "markdown",
   "metadata": {},
   "source": [
    "## Feature Engineering"
   ]
  },
  {
   "cell_type": "markdown",
   "metadata": {},
   "source": [
    "### DJIA Data"
   ]
  },
  {
   "cell_type": "code",
   "execution_count": 97,
   "metadata": {},
   "outputs": [
    {
     "data": {
      "text/plain": [
       "array([0.])"
      ]
     },
     "execution_count": 97,
     "metadata": {},
     "output_type": "execute_result"
    }
   ],
   "source": [
    "(djia_df['Close'] - djia_df['Adj Close']).unique()"
   ]
  },
  {
   "cell_type": "code",
   "execution_count": 98,
   "metadata": {},
   "outputs": [],
   "source": [
    "djia_df.drop(['Adj Close'], axis=1, inplace=True)"
   ]
  },
  {
   "cell_type": "code",
   "execution_count": 99,
   "metadata": {},
   "outputs": [],
   "source": [
    "for i in range(1, 6):\n",
    "    djia_df[f'Open Minus {i}'] = djia_df['Open'].shift(i)\n",
    "    djia_df[f'High Minus {i}'] = djia_df['High'].shift(i)\n",
    "    djia_df[f'Low Minus {i}'] = djia_df['Low'].shift(i)\n",
    "    djia_df[f'Close Minus {i}'] = djia_df['Close'].shift(i)"
   ]
  },
  {
   "cell_type": "code",
   "execution_count": 101,
   "metadata": {},
   "outputs": [],
   "source": [
    "djia_df.dropna(inplace=True)"
   ]
  },
  {
   "cell_type": "markdown",
   "metadata": {},
   "source": [
    "### Reddit Data"
   ]
  },
  {
   "cell_type": "code",
   "execution_count": 57,
   "metadata": {},
   "outputs": [],
   "source": [
    "reddit_joined_df = reddit_df.groupby('Date').agg(join_news=('News', '<split>'.join))\n",
    "\n",
    "reddit_joined_df['join_news'] = reddit_joined_df['join_news'].str.split('<split>')\n",
    "reddit_joined_df = reddit_joined_df[reddit_joined_df['join_news'].str.len() == 25]\n",
    "\n",
    "reddit_joined_df[[f'News {i}' for i in range(1, 26)]] = reddit_joined_df['join_news'].apply(pd.Series)"
   ]
  },
  {
   "cell_type": "code",
   "execution_count": 109,
   "metadata": {},
   "outputs": [
    {
     "data": {
      "text/html": [
       "<div>\n",
       "<style scoped>\n",
       "    .dataframe tbody tr th:only-of-type {\n",
       "        vertical-align: middle;\n",
       "    }\n",
       "\n",
       "    .dataframe tbody tr th {\n",
       "        vertical-align: top;\n",
       "    }\n",
       "\n",
       "    .dataframe thead th {\n",
       "        text-align: right;\n",
       "    }\n",
       "</style>\n",
       "<table border=\"1\" class=\"dataframe\">\n",
       "  <thead>\n",
       "    <tr style=\"text-align: right;\">\n",
       "      <th></th>\n",
       "      <th>join_news</th>\n",
       "      <th>News 1</th>\n",
       "      <th>News 2</th>\n",
       "      <th>News 3</th>\n",
       "      <th>News 4</th>\n",
       "      <th>News 5</th>\n",
       "      <th>News 6</th>\n",
       "      <th>News 7</th>\n",
       "      <th>News 8</th>\n",
       "      <th>News 9</th>\n",
       "      <th>...</th>\n",
       "      <th>News 16</th>\n",
       "      <th>News 17</th>\n",
       "      <th>News 18</th>\n",
       "      <th>News 19</th>\n",
       "      <th>News 20</th>\n",
       "      <th>News 21</th>\n",
       "      <th>News 22</th>\n",
       "      <th>News 23</th>\n",
       "      <th>News 24</th>\n",
       "      <th>News 25</th>\n",
       "    </tr>\n",
       "    <tr>\n",
       "      <th>Date</th>\n",
       "      <th></th>\n",
       "      <th></th>\n",
       "      <th></th>\n",
       "      <th></th>\n",
       "      <th></th>\n",
       "      <th></th>\n",
       "      <th></th>\n",
       "      <th></th>\n",
       "      <th></th>\n",
       "      <th></th>\n",
       "      <th></th>\n",
       "      <th></th>\n",
       "      <th></th>\n",
       "      <th></th>\n",
       "      <th></th>\n",
       "      <th></th>\n",
       "      <th></th>\n",
       "      <th></th>\n",
       "      <th></th>\n",
       "      <th></th>\n",
       "      <th></th>\n",
       "    </tr>\n",
       "  </thead>\n",
       "  <tbody>\n",
       "    <tr>\n",
       "      <th>2008-06-08</th>\n",
       "      <td>[b'Nim Chimpsky: The tragedy of the chimp who ...</td>\n",
       "      <td>b'Nim Chimpsky: The tragedy of the chimp who t...</td>\n",
       "      <td>b\"Canada: Beware slippery slope' to censorship...</td>\n",
       "      <td>b'EU Vice-President Luisa Morgantini and the I...</td>\n",
       "      <td>b\"Israeli minister: Israel will attack Iran if...</td>\n",
       "      <td>b'Albino Killings in Tanzania. At least 19 alb...</td>\n",
       "      <td>b'Chiapas: army occupies Zapatista communities...</td>\n",
       "      <td>b'Polar bear swims 200 miles, is shot dead upo...</td>\n",
       "      <td>b'News is a contraband item in Pakistan now, a...</td>\n",
       "      <td>b'Albinos, Long Shunned, Face Threat in Tanzan...</td>\n",
       "      <td>...</td>\n",
       "      <td>b\"S. Korean protesters, police clash in beef r...</td>\n",
       "      <td>b\"Oil reserves 'will last decades' - a BBC Sco...</td>\n",
       "      <td>b'Cameras designed to detect terrorist facial ...</td>\n",
       "      <td>b'Israeli peace activists protest 41 years of ...</td>\n",
       "      <td>b\"A 5.1 earthquake hits China's Southern Qingh...</td>\n",
       "      <td>b'Man goes berzerk in Akihabara and stabs ever...</td>\n",
       "      <td>b'Threat of world AIDS pandemic among heterose...</td>\n",
       "      <td>b'Angst in Ankara: Turkey Steers into a Danger...</td>\n",
       "      <td>b\"UK: Identity cards 'could be used to spy on ...</td>\n",
       "      <td>b'Marriage, they said, was reduced to the stat...</td>\n",
       "    </tr>\n",
       "    <tr>\n",
       "      <th>2008-06-09</th>\n",
       "      <td>[b'United States quits Human Rights Council', ...</td>\n",
       "      <td>b'United States quits Human Rights Council'</td>\n",
       "      <td>b\"Pentagon blocked Cheney's attack on Iran\"</td>\n",
       "      <td>b\"'J Street,' a new liberal Jewish organizatio...</td>\n",
       "      <td>b'Former Ambassador Joseph Wilson: \"[The U.S. ...</td>\n",
       "      <td>b'EU leaders anxiously await Irish verdict on ...</td>\n",
       "      <td>b\" 17 Hit or Stabbed, 7 Confirmed Dead in Toky...</td>\n",
       "      <td>b'Treaty tensions mount as Iraq tells the US i...</td>\n",
       "      <td>b\"Council paints over street artist Banksy's g...</td>\n",
       "      <td>b'\"Finders keepers\" can get complicated when h...</td>\n",
       "      <td>...</td>\n",
       "      <td>b'35 Ukraine miners trapped underground - thre...</td>\n",
       "      <td>b'Bilderberg attendee Geithner calls for globa...</td>\n",
       "      <td>b'Jos Manuel Barroso bullies the Irish, saying...</td>\n",
       "      <td>b\"Don't worry everyone, AIDS is officially over!\"</td>\n",
       "      <td>b'What if Bush Attacks Iran on His Way Out of ...</td>\n",
       "      <td>b'Future of the United States of Europe in the...</td>\n",
       "      <td>b\"'Military coup' in Zimbabwe as Mugabe is for...</td>\n",
       "      <td>b'Rising Oil Prices Spark Strikes in Spain and...</td>\n",
       "      <td>b'Chvez to FARC: Asks to end armed strugle, \"T...</td>\n",
       "      <td>b'Fliers in for pain as airlines pack it in'</td>\n",
       "    </tr>\n",
       "  </tbody>\n",
       "</table>\n",
       "<p>2 rows × 26 columns</p>\n",
       "</div>"
      ],
      "text/plain": [
       "                                                    join_news  \\\n",
       "Date                                                            \n",
       "2008-06-08  [b'Nim Chimpsky: The tragedy of the chimp who ...   \n",
       "2008-06-09  [b'United States quits Human Rights Council', ...   \n",
       "\n",
       "                                                       News 1  \\\n",
       "Date                                                            \n",
       "2008-06-08  b'Nim Chimpsky: The tragedy of the chimp who t...   \n",
       "2008-06-09        b'United States quits Human Rights Council'   \n",
       "\n",
       "                                                       News 2  \\\n",
       "Date                                                            \n",
       "2008-06-08  b\"Canada: Beware slippery slope' to censorship...   \n",
       "2008-06-09        b\"Pentagon blocked Cheney's attack on Iran\"   \n",
       "\n",
       "                                                       News 3  \\\n",
       "Date                                                            \n",
       "2008-06-08  b'EU Vice-President Luisa Morgantini and the I...   \n",
       "2008-06-09  b\"'J Street,' a new liberal Jewish organizatio...   \n",
       "\n",
       "                                                       News 4  \\\n",
       "Date                                                            \n",
       "2008-06-08  b\"Israeli minister: Israel will attack Iran if...   \n",
       "2008-06-09  b'Former Ambassador Joseph Wilson: \"[The U.S. ...   \n",
       "\n",
       "                                                       News 5  \\\n",
       "Date                                                            \n",
       "2008-06-08  b'Albino Killings in Tanzania. At least 19 alb...   \n",
       "2008-06-09  b'EU leaders anxiously await Irish verdict on ...   \n",
       "\n",
       "                                                       News 6  \\\n",
       "Date                                                            \n",
       "2008-06-08  b'Chiapas: army occupies Zapatista communities...   \n",
       "2008-06-09  b\" 17 Hit or Stabbed, 7 Confirmed Dead in Toky...   \n",
       "\n",
       "                                                       News 7  \\\n",
       "Date                                                            \n",
       "2008-06-08  b'Polar bear swims 200 miles, is shot dead upo...   \n",
       "2008-06-09  b'Treaty tensions mount as Iraq tells the US i...   \n",
       "\n",
       "                                                       News 8  \\\n",
       "Date                                                            \n",
       "2008-06-08  b'News is a contraband item in Pakistan now, a...   \n",
       "2008-06-09  b\"Council paints over street artist Banksy's g...   \n",
       "\n",
       "                                                       News 9  ...  \\\n",
       "Date                                                           ...   \n",
       "2008-06-08  b'Albinos, Long Shunned, Face Threat in Tanzan...  ...   \n",
       "2008-06-09  b'\"Finders keepers\" can get complicated when h...  ...   \n",
       "\n",
       "                                                      News 16  \\\n",
       "Date                                                            \n",
       "2008-06-08  b\"S. Korean protesters, police clash in beef r...   \n",
       "2008-06-09  b'35 Ukraine miners trapped underground - thre...   \n",
       "\n",
       "                                                      News 17  \\\n",
       "Date                                                            \n",
       "2008-06-08  b\"Oil reserves 'will last decades' - a BBC Sco...   \n",
       "2008-06-09  b'Bilderberg attendee Geithner calls for globa...   \n",
       "\n",
       "                                                      News 18  \\\n",
       "Date                                                            \n",
       "2008-06-08  b'Cameras designed to detect terrorist facial ...   \n",
       "2008-06-09  b'Jos Manuel Barroso bullies the Irish, saying...   \n",
       "\n",
       "                                                      News 19  \\\n",
       "Date                                                            \n",
       "2008-06-08  b'Israeli peace activists protest 41 years of ...   \n",
       "2008-06-09  b\"Don't worry everyone, AIDS is officially over!\"   \n",
       "\n",
       "                                                      News 20  \\\n",
       "Date                                                            \n",
       "2008-06-08  b\"A 5.1 earthquake hits China's Southern Qingh...   \n",
       "2008-06-09  b'What if Bush Attacks Iran on His Way Out of ...   \n",
       "\n",
       "                                                      News 21  \\\n",
       "Date                                                            \n",
       "2008-06-08  b'Man goes berzerk in Akihabara and stabs ever...   \n",
       "2008-06-09  b'Future of the United States of Europe in the...   \n",
       "\n",
       "                                                      News 22  \\\n",
       "Date                                                            \n",
       "2008-06-08  b'Threat of world AIDS pandemic among heterose...   \n",
       "2008-06-09  b\"'Military coup' in Zimbabwe as Mugabe is for...   \n",
       "\n",
       "                                                      News 23  \\\n",
       "Date                                                            \n",
       "2008-06-08  b'Angst in Ankara: Turkey Steers into a Danger...   \n",
       "2008-06-09  b'Rising Oil Prices Spark Strikes in Spain and...   \n",
       "\n",
       "                                                      News 24  \\\n",
       "Date                                                            \n",
       "2008-06-08  b\"UK: Identity cards 'could be used to spy on ...   \n",
       "2008-06-09  b'Chvez to FARC: Asks to end armed strugle, \"T...   \n",
       "\n",
       "                                                      News 25  \n",
       "Date                                                           \n",
       "2008-06-08  b'Marriage, they said, was reduced to the stat...  \n",
       "2008-06-09       b'Fliers in for pain as airlines pack it in'  \n",
       "\n",
       "[2 rows x 26 columns]"
      ]
     },
     "execution_count": 109,
     "metadata": {},
     "output_type": "execute_result"
    }
   ],
   "source": [
    "reddit_joined_df.head(2)"
   ]
  },
  {
   "cell_type": "markdown",
   "metadata": {},
   "source": [
    "### Join datasets"
   ]
  },
  {
   "cell_type": "code",
   "execution_count": 106,
   "metadata": {},
   "outputs": [],
   "source": [
    "joined_df = djia_df.join(reddit_joined_df.drop(columns=['join_news']), how='inner')"
   ]
  },
  {
   "cell_type": "code",
   "execution_count": 114,
   "metadata": {},
   "outputs": [
    {
     "data": {
      "text/html": [
       "<div>\n",
       "<style scoped>\n",
       "    .dataframe tbody tr th:only-of-type {\n",
       "        vertical-align: middle;\n",
       "    }\n",
       "\n",
       "    .dataframe tbody tr th {\n",
       "        vertical-align: top;\n",
       "    }\n",
       "\n",
       "    .dataframe thead th {\n",
       "        text-align: right;\n",
       "    }\n",
       "</style>\n",
       "<table border=\"1\" class=\"dataframe\">\n",
       "  <thead>\n",
       "    <tr style=\"text-align: right;\">\n",
       "      <th></th>\n",
       "      <th>Open</th>\n",
       "      <th>High</th>\n",
       "      <th>Low</th>\n",
       "      <th>Close</th>\n",
       "      <th>Volume</th>\n",
       "      <th>Open Minus 1</th>\n",
       "      <th>High Minus 1</th>\n",
       "      <th>Low Minus 1</th>\n",
       "      <th>Close Minus 1</th>\n",
       "      <th>Open Minus 2</th>\n",
       "      <th>...</th>\n",
       "      <th>News 16</th>\n",
       "      <th>News 17</th>\n",
       "      <th>News 18</th>\n",
       "      <th>News 19</th>\n",
       "      <th>News 20</th>\n",
       "      <th>News 21</th>\n",
       "      <th>News 22</th>\n",
       "      <th>News 23</th>\n",
       "      <th>News 24</th>\n",
       "      <th>News 25</th>\n",
       "    </tr>\n",
       "    <tr>\n",
       "      <th>Date</th>\n",
       "      <th></th>\n",
       "      <th></th>\n",
       "      <th></th>\n",
       "      <th></th>\n",
       "      <th></th>\n",
       "      <th></th>\n",
       "      <th></th>\n",
       "      <th></th>\n",
       "      <th></th>\n",
       "      <th></th>\n",
       "      <th></th>\n",
       "      <th></th>\n",
       "      <th></th>\n",
       "      <th></th>\n",
       "      <th></th>\n",
       "      <th></th>\n",
       "      <th></th>\n",
       "      <th></th>\n",
       "      <th></th>\n",
       "      <th></th>\n",
       "      <th></th>\n",
       "    </tr>\n",
       "  </thead>\n",
       "  <tbody>\n",
       "    <tr>\n",
       "      <th>2016-06-24</th>\n",
       "      <td>17946.630859</td>\n",
       "      <td>17946.630859</td>\n",
       "      <td>17356.339844</td>\n",
       "      <td>17400.750000</td>\n",
       "      <td>239000000</td>\n",
       "      <td>17355.210938</td>\n",
       "      <td>17355.210938</td>\n",
       "      <td>17063.080078</td>\n",
       "      <td>17140.240234</td>\n",
       "      <td>17190.509766</td>\n",
       "      <td>...</td>\n",
       "      <td>Sinn Fein calls for a referendum on Irish reun...</td>\n",
       "      <td>$70 billion wiped off the Australian sharemark...</td>\n",
       "      <td>Nigel Farage disowns Vote Leave '350m for the ...</td>\n",
       "      <td>Top EU leader: we want Britain out as soon as ...</td>\n",
       "      <td>Nigel Farage: 350 million pledge to fund the N...</td>\n",
       "      <td>Thousands of London banking job cuts to start ...</td>\n",
       "      <td>Google says there was a large spike in searche...</td>\n",
       "      <td>EU referendum; Gibraltar backs Remain with 94%...</td>\n",
       "      <td>After Brexit, U.K. Residents Google 'What Is T...</td>\n",
       "      <td>A Turkish man has been found guilty of insulti...</td>\n",
       "    </tr>\n",
       "    <tr>\n",
       "      <th>2016-06-23</th>\n",
       "      <td>17844.109375</td>\n",
       "      <td>18011.070312</td>\n",
       "      <td>17844.109375</td>\n",
       "      <td>18011.070312</td>\n",
       "      <td>98070000</td>\n",
       "      <td>17946.630859</td>\n",
       "      <td>17946.630859</td>\n",
       "      <td>17356.339844</td>\n",
       "      <td>17400.750000</td>\n",
       "      <td>17355.210938</td>\n",
       "      <td>...</td>\n",
       "      <td>Colombia, FARC announce full ceasefire, 'last ...</td>\n",
       "      <td>Gunmen kill Sufi devotional singer Amjad Sabri...</td>\n",
       "      <td>India launches 20 satellites in single mission</td>\n",
       "      <td>F-16s to be manufactured soon in an assembly l...</td>\n",
       "      <td>Australia's gun laws stopped mass shootings an...</td>\n",
       "      <td>French cement company in Syria buys oil from I...</td>\n",
       "      <td>Pope to visit Armenia after irking Turkey with...</td>\n",
       "      <td>Merkel says NATO must be strengthened</td>\n",
       "      <td>China cracks down on online comments, click-ba...</td>\n",
       "      <td>The prime minister of India is set to get a br...</td>\n",
       "    </tr>\n",
       "  </tbody>\n",
       "</table>\n",
       "<p>2 rows × 50 columns</p>\n",
       "</div>"
      ],
      "text/plain": [
       "                    Open          High           Low         Close     Volume  \\\n",
       "Date                                                                            \n",
       "2016-06-24  17946.630859  17946.630859  17356.339844  17400.750000  239000000   \n",
       "2016-06-23  17844.109375  18011.070312  17844.109375  18011.070312   98070000   \n",
       "\n",
       "            Open Minus 1  High Minus 1   Low Minus 1  Close Minus 1  \\\n",
       "Date                                                                  \n",
       "2016-06-24  17355.210938  17355.210938  17063.080078   17140.240234   \n",
       "2016-06-23  17946.630859  17946.630859  17356.339844   17400.750000   \n",
       "\n",
       "            Open Minus 2  ...  \\\n",
       "Date                      ...   \n",
       "2016-06-24  17190.509766  ...   \n",
       "2016-06-23  17355.210938  ...   \n",
       "\n",
       "                                                      News 16  \\\n",
       "Date                                                            \n",
       "2016-06-24  Sinn Fein calls for a referendum on Irish reun...   \n",
       "2016-06-23  Colombia, FARC announce full ceasefire, 'last ...   \n",
       "\n",
       "                                                      News 17  \\\n",
       "Date                                                            \n",
       "2016-06-24  $70 billion wiped off the Australian sharemark...   \n",
       "2016-06-23  Gunmen kill Sufi devotional singer Amjad Sabri...   \n",
       "\n",
       "                                                      News 18  \\\n",
       "Date                                                            \n",
       "2016-06-24  Nigel Farage disowns Vote Leave '350m for the ...   \n",
       "2016-06-23     India launches 20 satellites in single mission   \n",
       "\n",
       "                                                      News 19  \\\n",
       "Date                                                            \n",
       "2016-06-24  Top EU leader: we want Britain out as soon as ...   \n",
       "2016-06-23  F-16s to be manufactured soon in an assembly l...   \n",
       "\n",
       "                                                      News 20  \\\n",
       "Date                                                            \n",
       "2016-06-24  Nigel Farage: 350 million pledge to fund the N...   \n",
       "2016-06-23  Australia's gun laws stopped mass shootings an...   \n",
       "\n",
       "                                                      News 21  \\\n",
       "Date                                                            \n",
       "2016-06-24  Thousands of London banking job cuts to start ...   \n",
       "2016-06-23  French cement company in Syria buys oil from I...   \n",
       "\n",
       "                                                      News 22  \\\n",
       "Date                                                            \n",
       "2016-06-24  Google says there was a large spike in searche...   \n",
       "2016-06-23  Pope to visit Armenia after irking Turkey with...   \n",
       "\n",
       "                                                      News 23  \\\n",
       "Date                                                            \n",
       "2016-06-24  EU referendum; Gibraltar backs Remain with 94%...   \n",
       "2016-06-23              Merkel says NATO must be strengthened   \n",
       "\n",
       "                                                      News 24  \\\n",
       "Date                                                            \n",
       "2016-06-24  After Brexit, U.K. Residents Google 'What Is T...   \n",
       "2016-06-23  China cracks down on online comments, click-ba...   \n",
       "\n",
       "                                                      News 25  \n",
       "Date                                                           \n",
       "2016-06-24  A Turkish man has been found guilty of insulti...  \n",
       "2016-06-23  The prime minister of India is set to get a br...  \n",
       "\n",
       "[2 rows x 50 columns]"
      ]
     },
     "execution_count": 114,
     "metadata": {},
     "output_type": "execute_result"
    }
   ],
   "source": [
    "joined_df.head(2)"
   ]
  },
  {
   "cell_type": "markdown",
   "metadata": {},
   "source": [
    "### Feature extraction (News Sentiment)"
   ]
  },
  {
   "cell_type": "markdown",
   "metadata": {},
   "source": [
    "#### Didn't run this because it takes a long time to run"
   ]
  },
  {
   "cell_type": "code",
   "execution_count": 143,
   "metadata": {},
   "outputs": [],
   "source": [
    "# sentiment_analyzer = pipeline('sentiment-analysis', framework='pt')"
   ]
  },
  {
   "cell_type": "code",
   "execution_count": 144,
   "metadata": {},
   "outputs": [],
   "source": [
    "# joined_df['News Sentiment'] = joined_df['News 1'].apply(lambda x: sentiment_analyzer(x)[0]['label'])"
   ]
  },
  {
   "cell_type": "markdown",
   "metadata": {},
   "source": [
    "### Final DataFrame"
   ]
  },
  {
   "cell_type": "markdown",
   "metadata": {},
   "source": [
    "#### Dropping News information due to processing limitations"
   ]
  },
  {
   "cell_type": "code",
   "execution_count": 145,
   "metadata": {},
   "outputs": [],
   "source": [
    "final_df = joined_df.drop(columns=[f'News {i}' for i in range(1, 26)])"
   ]
  },
  {
   "cell_type": "markdown",
   "metadata": {},
   "source": [
    "#### I will exclusively be utilizing open data at the moment as I have opted to forecast the opening price of the next day based on historical data"
   ]
  },
  {
   "cell_type": "code",
   "execution_count": 147,
   "metadata": {},
   "outputs": [],
   "source": [
    "final_df = final_df[['Open'] + [f'Open Minus {i}' for i in range(1, 6)]]"
   ]
  },
  {
   "cell_type": "code",
   "execution_count": 148,
   "metadata": {},
   "outputs": [
    {
     "data": {
      "text/html": [
       "<div>\n",
       "<style scoped>\n",
       "    .dataframe tbody tr th:only-of-type {\n",
       "        vertical-align: middle;\n",
       "    }\n",
       "\n",
       "    .dataframe tbody tr th {\n",
       "        vertical-align: top;\n",
       "    }\n",
       "\n",
       "    .dataframe thead th {\n",
       "        text-align: right;\n",
       "    }\n",
       "</style>\n",
       "<table border=\"1\" class=\"dataframe\">\n",
       "  <thead>\n",
       "    <tr style=\"text-align: right;\">\n",
       "      <th></th>\n",
       "      <th>Open</th>\n",
       "      <th>Open Minus 1</th>\n",
       "      <th>Open Minus 2</th>\n",
       "      <th>Open Minus 3</th>\n",
       "      <th>Open Minus 4</th>\n",
       "      <th>Open Minus 5</th>\n",
       "    </tr>\n",
       "    <tr>\n",
       "      <th>Date</th>\n",
       "      <th></th>\n",
       "      <th></th>\n",
       "      <th></th>\n",
       "      <th></th>\n",
       "      <th></th>\n",
       "      <th></th>\n",
       "    </tr>\n",
       "  </thead>\n",
       "  <tbody>\n",
       "    <tr>\n",
       "      <th>2016-06-24</th>\n",
       "      <td>17946.630859</td>\n",
       "      <td>17355.210938</td>\n",
       "      <td>17190.509766</td>\n",
       "      <td>17456.019531</td>\n",
       "      <td>17712.759766</td>\n",
       "      <td>17924.240234</td>\n",
       "    </tr>\n",
       "    <tr>\n",
       "      <th>2016-06-23</th>\n",
       "      <td>17844.109375</td>\n",
       "      <td>17946.630859</td>\n",
       "      <td>17355.210938</td>\n",
       "      <td>17190.509766</td>\n",
       "      <td>17456.019531</td>\n",
       "      <td>17712.759766</td>\n",
       "    </tr>\n",
       "  </tbody>\n",
       "</table>\n",
       "</div>"
      ],
      "text/plain": [
       "                    Open  Open Minus 1  Open Minus 2  Open Minus 3  \\\n",
       "Date                                                                 \n",
       "2016-06-24  17946.630859  17355.210938  17190.509766  17456.019531   \n",
       "2016-06-23  17844.109375  17946.630859  17355.210938  17190.509766   \n",
       "\n",
       "            Open Minus 4  Open Minus 5  \n",
       "Date                                    \n",
       "2016-06-24  17712.759766  17924.240234  \n",
       "2016-06-23  17456.019531  17712.759766  "
      ]
     },
     "execution_count": 148,
     "metadata": {},
     "output_type": "execute_result"
    }
   ],
   "source": [
    "final_df.head(2)"
   ]
  },
  {
   "cell_type": "markdown",
   "metadata": {},
   "source": [
    "# Training and Testing Model"
   ]
  },
  {
   "cell_type": "markdown",
   "metadata": {},
   "source": [
    "## Split data"
   ]
  },
  {
   "cell_type": "code",
   "execution_count": 149,
   "metadata": {},
   "outputs": [],
   "source": [
    "X_train, X_test, y_train, y_test = train_test_split(final_df.drop(columns=['Open']), final_df['Open'], test_size=0.2, random_state=42)"
   ]
  },
  {
   "cell_type": "markdown",
   "metadata": {},
   "source": [
    "## Initialize Grid Search Fine Tuning"
   ]
  },
  {
   "cell_type": "code",
   "execution_count": 156,
   "metadata": {},
   "outputs": [],
   "source": [
    "cv = KFold(n_splits=5, shuffle=True, random_state=42)"
   ]
  },
  {
   "cell_type": "code",
   "execution_count": 154,
   "metadata": {},
   "outputs": [],
   "source": [
    "params = {\n",
    "    'n_estimators': [100, 200, 300, 400, 500],\n",
    "    'max_depth': [2, 3, 4, 5, 6, 7, 8],\n",
    "    'learning_rate': [0.01, 0.05, 0.1, 0.2, 0.3]\n",
    "}"
   ]
  },
  {
   "cell_type": "code",
   "execution_count": 159,
   "metadata": {},
   "outputs": [],
   "source": [
    "grid = GridSearchCV(XGBRegressor(), params, cv=cv, n_jobs=20, verbose=1)"
   ]
  },
  {
   "cell_type": "markdown",
   "metadata": {},
   "source": [
    "## Train Model"
   ]
  },
  {
   "cell_type": "code",
   "execution_count": 160,
   "metadata": {},
   "outputs": [
    {
     "name": "stdout",
     "output_type": "stream",
     "text": [
      "Fitting 5 folds for each of 175 candidates, totalling 875 fits\n"
     ]
    },
    {
     "data": {
      "text/html": [
       "<style>#sk-container-id-1 {color: black;background-color: white;}#sk-container-id-1 pre{padding: 0;}#sk-container-id-1 div.sk-toggleable {background-color: white;}#sk-container-id-1 label.sk-toggleable__label {cursor: pointer;display: block;width: 100%;margin-bottom: 0;padding: 0.3em;box-sizing: border-box;text-align: center;}#sk-container-id-1 label.sk-toggleable__label-arrow:before {content: \"▸\";float: left;margin-right: 0.25em;color: #696969;}#sk-container-id-1 label.sk-toggleable__label-arrow:hover:before {color: black;}#sk-container-id-1 div.sk-estimator:hover label.sk-toggleable__label-arrow:before {color: black;}#sk-container-id-1 div.sk-toggleable__content {max-height: 0;max-width: 0;overflow: hidden;text-align: left;background-color: #f0f8ff;}#sk-container-id-1 div.sk-toggleable__content pre {margin: 0.2em;color: black;border-radius: 0.25em;background-color: #f0f8ff;}#sk-container-id-1 input.sk-toggleable__control:checked~div.sk-toggleable__content {max-height: 200px;max-width: 100%;overflow: auto;}#sk-container-id-1 input.sk-toggleable__control:checked~label.sk-toggleable__label-arrow:before {content: \"▾\";}#sk-container-id-1 div.sk-estimator input.sk-toggleable__control:checked~label.sk-toggleable__label {background-color: #d4ebff;}#sk-container-id-1 div.sk-label input.sk-toggleable__control:checked~label.sk-toggleable__label {background-color: #d4ebff;}#sk-container-id-1 input.sk-hidden--visually {border: 0;clip: rect(1px 1px 1px 1px);clip: rect(1px, 1px, 1px, 1px);height: 1px;margin: -1px;overflow: hidden;padding: 0;position: absolute;width: 1px;}#sk-container-id-1 div.sk-estimator {font-family: monospace;background-color: #f0f8ff;border: 1px dotted black;border-radius: 0.25em;box-sizing: border-box;margin-bottom: 0.5em;}#sk-container-id-1 div.sk-estimator:hover {background-color: #d4ebff;}#sk-container-id-1 div.sk-parallel-item::after {content: \"\";width: 100%;border-bottom: 1px solid gray;flex-grow: 1;}#sk-container-id-1 div.sk-label:hover label.sk-toggleable__label {background-color: #d4ebff;}#sk-container-id-1 div.sk-serial::before {content: \"\";position: absolute;border-left: 1px solid gray;box-sizing: border-box;top: 0;bottom: 0;left: 50%;z-index: 0;}#sk-container-id-1 div.sk-serial {display: flex;flex-direction: column;align-items: center;background-color: white;padding-right: 0.2em;padding-left: 0.2em;position: relative;}#sk-container-id-1 div.sk-item {position: relative;z-index: 1;}#sk-container-id-1 div.sk-parallel {display: flex;align-items: stretch;justify-content: center;background-color: white;position: relative;}#sk-container-id-1 div.sk-item::before, #sk-container-id-1 div.sk-parallel-item::before {content: \"\";position: absolute;border-left: 1px solid gray;box-sizing: border-box;top: 0;bottom: 0;left: 50%;z-index: -1;}#sk-container-id-1 div.sk-parallel-item {display: flex;flex-direction: column;z-index: 1;position: relative;background-color: white;}#sk-container-id-1 div.sk-parallel-item:first-child::after {align-self: flex-end;width: 50%;}#sk-container-id-1 div.sk-parallel-item:last-child::after {align-self: flex-start;width: 50%;}#sk-container-id-1 div.sk-parallel-item:only-child::after {width: 0;}#sk-container-id-1 div.sk-dashed-wrapped {border: 1px dashed gray;margin: 0 0.4em 0.5em 0.4em;box-sizing: border-box;padding-bottom: 0.4em;background-color: white;}#sk-container-id-1 div.sk-label label {font-family: monospace;font-weight: bold;display: inline-block;line-height: 1.2em;}#sk-container-id-1 div.sk-label-container {text-align: center;}#sk-container-id-1 div.sk-container {/* jupyter's `normalize.less` sets `[hidden] { display: none; }` but bootstrap.min.css set `[hidden] { display: none !important; }` so we also need the `!important` here to be able to override the default hidden behavior on the sphinx rendered scikit-learn.org. See: https://github.com/scikit-learn/scikit-learn/issues/21755 */display: inline-block !important;position: relative;}#sk-container-id-1 div.sk-text-repr-fallback {display: none;}</style><div id=\"sk-container-id-1\" class=\"sk-top-container\"><div class=\"sk-text-repr-fallback\"><pre>GridSearchCV(cv=KFold(n_splits=5, random_state=42, shuffle=True),\n",
       "             estimator=XGBRegressor(base_score=None, booster=None,\n",
       "                                    callbacks=None, colsample_bylevel=None,\n",
       "                                    colsample_bynode=None,\n",
       "                                    colsample_bytree=None, device=None,\n",
       "                                    early_stopping_rounds=None,\n",
       "                                    enable_categorical=False, eval_metric=None,\n",
       "                                    feature_types=None, gamma=None,\n",
       "                                    grow_policy=None, importance_type=None,\n",
       "                                    inte...\n",
       "                                    max_cat_to_onehot=None, max_delta_step=None,\n",
       "                                    max_depth=None, max_leaves=None,\n",
       "                                    min_child_weight=None, missing=nan,\n",
       "                                    monotone_constraints=None,\n",
       "                                    multi_strategy=None, n_estimators=None,\n",
       "                                    n_jobs=None, num_parallel_tree=None,\n",
       "                                    random_state=None, ...),\n",
       "             n_jobs=20,\n",
       "             param_grid={&#x27;learning_rate&#x27;: [0.01, 0.05, 0.1, 0.2, 0.3],\n",
       "                         &#x27;max_depth&#x27;: [2, 3, 4, 5, 6, 7, 8],\n",
       "                         &#x27;n_estimators&#x27;: [100, 200, 300, 400, 500]},\n",
       "             verbose=1)</pre><b>In a Jupyter environment, please rerun this cell to show the HTML representation or trust the notebook. <br />On GitHub, the HTML representation is unable to render, please try loading this page with nbviewer.org.</b></div><div class=\"sk-container\" hidden><div class=\"sk-item sk-dashed-wrapped\"><div class=\"sk-label-container\"><div class=\"sk-label sk-toggleable\"><input class=\"sk-toggleable__control sk-hidden--visually\" id=\"sk-estimator-id-1\" type=\"checkbox\" ><label for=\"sk-estimator-id-1\" class=\"sk-toggleable__label sk-toggleable__label-arrow\">GridSearchCV</label><div class=\"sk-toggleable__content\"><pre>GridSearchCV(cv=KFold(n_splits=5, random_state=42, shuffle=True),\n",
       "             estimator=XGBRegressor(base_score=None, booster=None,\n",
       "                                    callbacks=None, colsample_bylevel=None,\n",
       "                                    colsample_bynode=None,\n",
       "                                    colsample_bytree=None, device=None,\n",
       "                                    early_stopping_rounds=None,\n",
       "                                    enable_categorical=False, eval_metric=None,\n",
       "                                    feature_types=None, gamma=None,\n",
       "                                    grow_policy=None, importance_type=None,\n",
       "                                    inte...\n",
       "                                    max_cat_to_onehot=None, max_delta_step=None,\n",
       "                                    max_depth=None, max_leaves=None,\n",
       "                                    min_child_weight=None, missing=nan,\n",
       "                                    monotone_constraints=None,\n",
       "                                    multi_strategy=None, n_estimators=None,\n",
       "                                    n_jobs=None, num_parallel_tree=None,\n",
       "                                    random_state=None, ...),\n",
       "             n_jobs=20,\n",
       "             param_grid={&#x27;learning_rate&#x27;: [0.01, 0.05, 0.1, 0.2, 0.3],\n",
       "                         &#x27;max_depth&#x27;: [2, 3, 4, 5, 6, 7, 8],\n",
       "                         &#x27;n_estimators&#x27;: [100, 200, 300, 400, 500]},\n",
       "             verbose=1)</pre></div></div></div><div class=\"sk-parallel\"><div class=\"sk-parallel-item\"><div class=\"sk-item\"><div class=\"sk-label-container\"><div class=\"sk-label sk-toggleable\"><input class=\"sk-toggleable__control sk-hidden--visually\" id=\"sk-estimator-id-2\" type=\"checkbox\" ><label for=\"sk-estimator-id-2\" class=\"sk-toggleable__label sk-toggleable__label-arrow\">estimator: XGBRegressor</label><div class=\"sk-toggleable__content\"><pre>XGBRegressor(base_score=None, booster=None, callbacks=None,\n",
       "             colsample_bylevel=None, colsample_bynode=None,\n",
       "             colsample_bytree=None, device=None, early_stopping_rounds=None,\n",
       "             enable_categorical=False, eval_metric=None, feature_types=None,\n",
       "             gamma=None, grow_policy=None, importance_type=None,\n",
       "             interaction_constraints=None, learning_rate=None, max_bin=None,\n",
       "             max_cat_threshold=None, max_cat_to_onehot=None,\n",
       "             max_delta_step=None, max_depth=None, max_leaves=None,\n",
       "             min_child_weight=None, missing=nan, monotone_constraints=None,\n",
       "             multi_strategy=None, n_estimators=None, n_jobs=None,\n",
       "             num_parallel_tree=None, random_state=None, ...)</pre></div></div></div><div class=\"sk-serial\"><div class=\"sk-item\"><div class=\"sk-estimator sk-toggleable\"><input class=\"sk-toggleable__control sk-hidden--visually\" id=\"sk-estimator-id-3\" type=\"checkbox\" ><label for=\"sk-estimator-id-3\" class=\"sk-toggleable__label sk-toggleable__label-arrow\">XGBRegressor</label><div class=\"sk-toggleable__content\"><pre>XGBRegressor(base_score=None, booster=None, callbacks=None,\n",
       "             colsample_bylevel=None, colsample_bynode=None,\n",
       "             colsample_bytree=None, device=None, early_stopping_rounds=None,\n",
       "             enable_categorical=False, eval_metric=None, feature_types=None,\n",
       "             gamma=None, grow_policy=None, importance_type=None,\n",
       "             interaction_constraints=None, learning_rate=None, max_bin=None,\n",
       "             max_cat_threshold=None, max_cat_to_onehot=None,\n",
       "             max_delta_step=None, max_depth=None, max_leaves=None,\n",
       "             min_child_weight=None, missing=nan, monotone_constraints=None,\n",
       "             multi_strategy=None, n_estimators=None, n_jobs=None,\n",
       "             num_parallel_tree=None, random_state=None, ...)</pre></div></div></div></div></div></div></div></div></div></div>"
      ],
      "text/plain": [
       "GridSearchCV(cv=KFold(n_splits=5, random_state=42, shuffle=True),\n",
       "             estimator=XGBRegressor(base_score=None, booster=None,\n",
       "                                    callbacks=None, colsample_bylevel=None,\n",
       "                                    colsample_bynode=None,\n",
       "                                    colsample_bytree=None, device=None,\n",
       "                                    early_stopping_rounds=None,\n",
       "                                    enable_categorical=False, eval_metric=None,\n",
       "                                    feature_types=None, gamma=None,\n",
       "                                    grow_policy=None, importance_type=None,\n",
       "                                    inte...\n",
       "                                    max_cat_to_onehot=None, max_delta_step=None,\n",
       "                                    max_depth=None, max_leaves=None,\n",
       "                                    min_child_weight=None, missing=nan,\n",
       "                                    monotone_constraints=None,\n",
       "                                    multi_strategy=None, n_estimators=None,\n",
       "                                    n_jobs=None, num_parallel_tree=None,\n",
       "                                    random_state=None, ...),\n",
       "             n_jobs=20,\n",
       "             param_grid={'learning_rate': [0.01, 0.05, 0.1, 0.2, 0.3],\n",
       "                         'max_depth': [2, 3, 4, 5, 6, 7, 8],\n",
       "                         'n_estimators': [100, 200, 300, 400, 500]},\n",
       "             verbose=1)"
      ]
     },
     "execution_count": 160,
     "metadata": {},
     "output_type": "execute_result"
    }
   ],
   "source": [
    "grid.fit(X_train, y_train)"
   ]
  },
  {
   "cell_type": "code",
   "execution_count": 164,
   "metadata": {},
   "outputs": [
    {
     "name": "stdout",
     "output_type": "stream",
     "text": [
      "{'learning_rate': 0.05, 'max_depth': 3, 'n_estimators': 200}\n"
     ]
    }
   ],
   "source": [
    "print(grid.best_params_)"
   ]
  },
  {
   "cell_type": "markdown",
   "metadata": {},
   "source": [
    "## Test Model"
   ]
  },
  {
   "cell_type": "code",
   "execution_count": 161,
   "metadata": {},
   "outputs": [],
   "source": [
    "y_pred = grid.predict(X_test)"
   ]
  },
  {
   "cell_type": "code",
   "execution_count": 163,
   "metadata": {},
   "outputs": [
    {
     "name": "stdout",
     "output_type": "stream",
     "text": [
      "MSE: 27196.295095825277\n",
      "MAE: 112.1565230609257\n",
      "R2: 0.9973087202448274\n"
     ]
    }
   ],
   "source": [
    "print(f'MSE: {mean_squared_error(y_test, y_pred)}')\n",
    "print(f'MAE: {mean_absolute_error(y_test, y_pred)}')\n",
    "print(f'R2: {r2_score(y_test, y_pred)}')"
   ]
  }
 ],
 "metadata": {
  "kernelspec": {
   "display_name": "base",
   "language": "python",
   "name": "python3"
  },
  "language_info": {
   "codemirror_mode": {
    "name": "ipython",
    "version": 3
   },
   "file_extension": ".py",
   "mimetype": "text/x-python",
   "name": "python",
   "nbconvert_exporter": "python",
   "pygments_lexer": "ipython3",
   "version": "3.10.9"
  }
 },
 "nbformat": 4,
 "nbformat_minor": 2
}
